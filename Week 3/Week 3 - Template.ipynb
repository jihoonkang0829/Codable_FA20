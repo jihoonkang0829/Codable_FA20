{
 "cells": [
  {
   "cell_type": "markdown",
   "metadata": {},
   "source": [
    "## List contd."
   ]
  },
  {
   "cell_type": "code",
   "execution_count": 22,
   "metadata": {},
   "outputs": [
    {
     "name": "stdout",
     "output_type": "stream",
     "text": [
      "[0, 1, 2, 3, 4, 5, 6]\n",
      "[0, 3, 6, 9, 12, 15, 18]\n",
      "[0, 8, 64, 216]\n",
      "[0, 1, 8, 3, 64, 5, 216]\n",
      "[1, 8, 3, 64, 5, 216]\n",
      "[8, 3, 64, 5]\n"
     ]
    }
   ],
   "source": [
    "# More list comprehensions!\n",
    "l = [0, 1, 2, 3, 4, 5, 6]\n",
    "print(l)\n",
    "\n",
    "l = [i*3 for i in l] # X do l= at first, ask\n",
    "print(l)\n",
    "\n",
    "# Question: How would this behave?\n",
    "l = [0, 1, 2, 3, 4, 5, 6]\n",
    "l = [i**3 for i in l if i % 2 == 0]\n",
    "print(l)\n",
    "\n",
    "l = [0, 1, 2, 3, 4, 5, 6]\n",
    "l = [i**3 if i % 2 == 0 else i for i in l]\n",
    "print(l)\n",
    "\n",
    "print(l[1:])\n",
    "print(l[2:-1])\n",
    "l.append(4)\n",
    "# l.remove(3)\n",
    "\n",
    "\n",
    "num = 5\n",
    "if num in l: l.remove(num)\n"
   ]
  },
  {
   "cell_type": "code",
   "execution_count": 50,
   "metadata": {},
   "outputs": [
    {
     "name": "stdout",
     "output_type": "stream",
     "text": [
      "[10, 11, 12, 3, 1, 20, 15, 22, 2, 19, 30, 24, 30, 7, 15, 20, 16, 26, 9, 15, 14, 15, 30, 22, 12, 21, 6, 27, 26, 29]\n",
      "7\n",
      "7\n",
      "7\n",
      "7\n"
     ]
    }
   ],
   "source": [
    "# Exercise: Count the number of elements in the list that is smaller or equal to 10\n",
    "import random\n",
    "l = [random.randint(0, 30) for i in range(30)]\n",
    "print(l)\n",
    "\n",
    "count = 0\n",
    "for i in range(len(l)):\n",
    "    if l[i] <= 10:\n",
    "        count += 1\n",
    "print(count)\n",
    "\n",
    "count = 0\n",
    "for i in l: \n",
    "    if i <= 10: \n",
    "        count += 1\n",
    "print(count)\n",
    "\n",
    "count = 0\n",
    "index = 0\n",
    "while(index < len(l)):\n",
    "    if l[index] <= 10:\n",
    "        count += 1\n",
    "    index += 1\n",
    "print(count)\n",
    "\n",
    "print(len([i for i in l if i <= 10]))"
   ]
  },
  {
   "cell_type": "markdown",
   "metadata": {},
   "source": [
    "## Fuctions"
   ]
  },
  {
   "cell_type": "code",
   "execution_count": 26,
   "metadata": {},
   "outputs": [],
   "source": [
    "## Functions\n",
    "def simplePlus(a = 3, b = 7):\n",
    "    return a + b"
   ]
  },
  {
   "cell_type": "code",
   "execution_count": 29,
   "metadata": {},
   "outputs": [
    {
     "data": {
      "text/plain": [
       "13"
      ]
     },
     "execution_count": 29,
     "metadata": {},
     "output_type": "execute_result"
    }
   ],
   "source": [
    "a = simplePlus(4, 9)\n",
    "a"
   ]
  },
  {
   "cell_type": "code",
   "execution_count": 48,
   "metadata": {},
   "outputs": [],
   "source": [
    "def isInt(a):\n",
    "    if isinstance(a, int): return True, type(a)\n",
    "    return False, type(a)\n",
    "\n",
    "#     return isinstance(a, int), type(a)"
   ]
  },
  {
   "cell_type": "code",
   "execution_count": 47,
   "metadata": {},
   "outputs": [
    {
     "name": "stdout",
     "output_type": "stream",
     "text": [
      "False <class 'float'>\n"
     ]
    }
   ],
   "source": [
    "ret_bool, ret_type = isInt(3.5)\n",
    "print(ret_bool, ret_type)"
   ]
  },
  {
   "cell_type": "code",
   "execution_count": 41,
   "metadata": {},
   "outputs": [],
   "source": [
    "# Exercise: write a function that returns the sum of all even numbers in the list\n",
    "def listEvenSum(a):  \n",
    "    evenSum = 0\n",
    "    for i in a:\n",
    "        if i % 2 == 0:\n",
    "            evenSum += i\n",
    "            \n",
    "    return evenSum\n",
    "\n",
    "#     return sum([i for i in a if i % 2 == 0])\n",
    "\n",
    "\n",
    "\n",
    "\n",
    "a = [2, 5, 6, 8]\n",
    "ret = listEvenSum(a)"
   ]
  },
  {
   "cell_type": "code",
   "execution_count": 34,
   "metadata": {},
   "outputs": [
    {
     "data": {
      "text/plain": [
       "24"
      ]
     },
     "execution_count": 34,
     "metadata": {},
     "output_type": "execute_result"
    }
   ],
   "source": [
    "# Exercise: write a function that returns a factorial of the input integer\n",
    "# 4! = 4 * 3 * 2 * 1\n",
    "def factorial(a):\n",
    "    fact = 1\n",
    "    for i in range(1, a+1):\n",
    "        fact *= i\n",
    "    return fact\n",
    "\n",
    "factorial(4)"
   ]
  },
  {
   "cell_type": "code",
   "execution_count": 7,
   "metadata": {},
   "outputs": [
    {
     "data": {
      "text/plain": [
       "True"
      ]
     },
     "execution_count": 7,
     "metadata": {},
     "output_type": "execute_result"
    }
   ],
   "source": [
    "factorial(4) == 4 * factorial(3)"
   ]
  },
  {
   "cell_type": "markdown",
   "metadata": {},
   "source": [
    "## Recursion"
   ]
  },
  {
   "cell_type": "code",
   "execution_count": 8,
   "metadata": {},
   "outputs": [],
   "source": [
    "def factorial_recursive(a):\n",
    "    if a < 1: \n",
    "        print(\"Please enter a valid input\")\n",
    "        return\n",
    "    if a == 1: return 1\n",
    "    return a * factorial_recursive(a-1)"
   ]
  },
  {
   "cell_type": "code",
   "execution_count": 9,
   "metadata": {},
   "outputs": [],
   "source": [
    "## iPad explanation"
   ]
  },
  {
   "cell_type": "code",
   "execution_count": 10,
   "metadata": {},
   "outputs": [
    {
     "data": {
      "text/plain": [
       "5040"
      ]
     },
     "execution_count": 10,
     "metadata": {},
     "output_type": "execute_result"
    }
   ],
   "source": [
    "factorial_recursive(7)"
   ]
  },
  {
   "cell_type": "code",
   "execution_count": 11,
   "metadata": {},
   "outputs": [],
   "source": [
    "# def fib_iter(a):\n",
    "#     if a == 0: return 0\n",
    "#     elif a == 1: return 1\n",
    "#     num1 = 0\n",
    "#     num2 = 1\n",
    "#     temp = num1 + num2\n",
    "#     for i in range(a-2):\n",
    "#         num1, num2 = num2, temp\n",
    "#         temp = num1 + num2\n",
    "        \n",
    "#     return temp       "
   ]
  },
  {
   "cell_type": "code",
   "execution_count": 12,
   "metadata": {},
   "outputs": [],
   "source": [
    "# print the ath fibonacci number (zero-based)\n",
    "def fibonacci(a):\n",
    "    if a < 0: print(\"Please enter a valid input\")\n",
    "    elif a == 0: return 0\n",
    "    elif a == 1: return 1\n",
    "    return fibonacci(a - 1) + fibonacci(a - 2)\n",
    "    "
   ]
  },
  {
   "cell_type": "code",
   "execution_count": 13,
   "metadata": {},
   "outputs": [],
   "source": [
    "## iPad explanation"
   ]
  },
  {
   "cell_type": "code",
   "execution_count": 14,
   "metadata": {},
   "outputs": [],
   "source": [
    "def fib_main(a):\n",
    "    f = [0 for i in range(a+1)]\n",
    "    f[0] = 0\n",
    "    f[1] = 1\n",
    "    fib_memo(f, a)\n",
    "    return f\n",
    "    \n",
    "def fib_memo(l, a):\n",
    "    if a < 0: print(\"Please enter a valid input\")\n",
    "    elif a == 0: return 0\n",
    "    elif a == 1: return 1\n",
    "    if l[a] == 0:\n",
    "        l[a] = fib_memo(l, a - 1) + fib_memo(l, a - 2)\n",
    "    return l[a]\n",
    "\n"
   ]
  },
  {
   "cell_type": "code",
   "execution_count": 15,
   "metadata": {},
   "outputs": [
    {
     "name": "stdout",
     "output_type": "stream",
     "text": [
      "CPU times: user 424 ms, sys: 2.63 ms, total: 426 ms\n",
      "Wall time: 426 ms\n"
     ]
    },
    {
     "data": {
      "text/plain": [
       "832040"
      ]
     },
     "execution_count": 15,
     "metadata": {},
     "output_type": "execute_result"
    }
   ],
   "source": [
    "%time fibonacci(30)"
   ]
  },
  {
   "cell_type": "code",
   "execution_count": 16,
   "metadata": {},
   "outputs": [
    {
     "name": "stdout",
     "output_type": "stream",
     "text": [
      "CPU times: user 29 µs, sys: 0 ns, total: 29 µs\n",
      "Wall time: 32.9 µs\n"
     ]
    },
    {
     "data": {
      "text/plain": [
       "[0,\n",
       " 1,\n",
       " 1,\n",
       " 2,\n",
       " 3,\n",
       " 5,\n",
       " 8,\n",
       " 13,\n",
       " 21,\n",
       " 34,\n",
       " 55,\n",
       " 89,\n",
       " 144,\n",
       " 233,\n",
       " 377,\n",
       " 610,\n",
       " 987,\n",
       " 1597,\n",
       " 2584,\n",
       " 4181,\n",
       " 6765,\n",
       " 10946,\n",
       " 17711,\n",
       " 28657,\n",
       " 46368,\n",
       " 75025,\n",
       " 121393,\n",
       " 196418,\n",
       " 317811,\n",
       " 514229,\n",
       " 832040]"
      ]
     },
     "execution_count": 16,
     "metadata": {},
     "output_type": "execute_result"
    }
   ],
   "source": [
    "%time fib_main(30)"
   ]
  },
  {
   "cell_type": "code",
   "execution_count": 17,
   "metadata": {},
   "outputs": [
    {
     "name": "stdout",
     "output_type": "stream",
     "text": [
      "[27, 26, 15, 1, 1, 7, 15, 11, 12, 0, 5, 22, 0, 1, 11, 30, 26, 26, 10, 25, 23, 10, 15, 10, 14, 18, 13, 23, 26, 26]\n"
     ]
    },
    {
     "data": {
      "text/plain": [
       "30"
      ]
     },
     "execution_count": 17,
     "metadata": {},
     "output_type": "execute_result"
    }
   ],
   "source": [
    "# Recursive function to find the maximum of the list\n",
    "def find_max(l):\n",
    "    if len(l) == 0: return None\n",
    "    if len(l) == 1: return l[0]\n",
    "    \n",
    "    a = l[0]\n",
    "    b = find_max(l[1:])\n",
    "    \n",
    "    if a >= b : return a\n",
    "    else: return b\n",
    "    \n",
    "print(l)\n",
    "ll = []\n",
    "find_max(l)\n",
    "    \n",
    "    "
   ]
  },
  {
   "cell_type": "code",
   "execution_count": 18,
   "metadata": {},
   "outputs": [],
   "source": [
    "# Exercise: write a function that prints out a number of occurence of an element in a list\n",
    "def countOccurence(l:list, k:int) -> int:\n",
    "    if len(l) == 0: return 0\n",
    "    if l[0] == k: return 1 + countOccurence(l[1:], k)\n",
    "    else: return 0 + countOccurence(l[1:], k)\n"
   ]
  },
  {
   "cell_type": "code",
   "execution_count": 19,
   "metadata": {},
   "outputs": [
    {
     "name": "stdout",
     "output_type": "stream",
     "text": [
      "[6, 7, 12, 7, 11, 10, 9, 9, 10, 8, 11, 8, 9, 11, 8, 10, 9, 9, 8, 10]\n",
      "5\n"
     ]
    }
   ],
   "source": [
    "import numpy as np\n",
    "l = np.random.normal(10, 2, 20).astype(int).tolist()\n",
    "print(l)\n",
    "print(countOccurence(l, 9))"
   ]
  }
 ],
 "metadata": {
  "kernelspec": {
   "display_name": "Python 3",
   "language": "python",
   "name": "python3"
  },
  "language_info": {
   "codemirror_mode": {
    "name": "ipython",
    "version": 3
   },
   "file_extension": ".py",
   "mimetype": "text/x-python",
   "name": "python",
   "nbconvert_exporter": "python",
   "pygments_lexer": "ipython3",
   "version": "3.8.6"
  }
 },
 "nbformat": 4,
 "nbformat_minor": 4
}
