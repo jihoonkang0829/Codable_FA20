{
 "cells": [
  {
   "cell_type": "markdown",
   "metadata": {},
   "source": [
    "## List contd."
   ]
  },
  {
   "cell_type": "code",
   "execution_count": 27,
   "metadata": {},
   "outputs": [
    {
     "data": {
      "text/plain": [
       "[10, 9, 7, 6, 5, 4, 3, 2, 1]"
      ]
     },
     "execution_count": 27,
     "metadata": {},
     "output_type": "execute_result"
    }
   ],
   "source": [
    "l = [0, 1, 2, 3, 4, 5, 6]\n",
    "\n",
    "# l = [i*3 for i in l]\n",
    "# print(l)\n",
    "\n",
    "l = [0, 1, 2, 3, 4, 5, 6]\n",
    "# l = [i ** 3 for i in l if i % 2 == 0]\n",
    "l = [i ** 3 if i % 2 == 0 else i for i in l]\n",
    "# print(l)\n",
    "\n",
    "l = [i for i in range(10, 0, -1)]\n",
    "# l[2:-2]\n",
    "\n",
    "# l.append(7)\n",
    "# l.remove(5)\n",
    "n = 8\n",
    "if n in l: l.remove(n)\n",
    "l"
   ]
  },
  {
   "cell_type": "code",
   "execution_count": 35,
   "metadata": {},
   "outputs": [
    {
     "name": "stdout",
     "output_type": "stream",
     "text": [
      "[3, 21, 0, 21, 28, 22, 5, 23, 1, 6, 2, 19, 3, 1, 28, 11, 24, 14, 12, 21]\n",
      "8\n",
      "8\n"
     ]
    },
    {
     "data": {
      "text/plain": [
       "8"
      ]
     },
     "execution_count": 35,
     "metadata": {},
     "output_type": "execute_result"
    }
   ],
   "source": [
    "# Exercise: Count the number of elements in the list that is smaller or equal to 10\n",
    "import random\n",
    "l = [random.randint(0, 30) for i in range(20)]\n",
    "print(l)\n",
    "\n",
    "count = 0\n",
    "for i in l:\n",
    "    if i <= 10:\n",
    "        count += 1\n",
    "        \n",
    "print(count)\n",
    "\n",
    "count = 0\n",
    "index = 0\n",
    "while index < len(l):\n",
    "    if l[index] <= 10:\n",
    "        count += 1\n",
    "    index += 1\n",
    "print(count)\n",
    "\n",
    "len([i for i in l if i <= 10])"
   ]
  },
  {
   "cell_type": "markdown",
   "metadata": {},
   "source": [
    "## Function"
   ]
  },
  {
   "cell_type": "code",
   "execution_count": 52,
   "metadata": {},
   "outputs": [],
   "source": [
    "## Function\n",
    "def simplePlus(a = 3, b = 7):\n",
    "    if a == 3: return a + b\n",
    "    c = a + b + 5\n",
    "    return c"
   ]
  },
  {
   "cell_type": "code",
   "execution_count": 53,
   "metadata": {},
   "outputs": [
    {
     "data": {
      "text/plain": [
       "16"
      ]
     },
     "execution_count": 53,
     "metadata": {},
     "output_type": "execute_result"
    }
   ],
   "source": [
    "ret = simplePlus(a = 4)\n",
    "ret"
   ]
  },
  {
   "cell_type": "code",
   "execution_count": 57,
   "metadata": {},
   "outputs": [
    {
     "data": {
      "text/plain": [
       "False"
      ]
     },
     "execution_count": 57,
     "metadata": {},
     "output_type": "execute_result"
    }
   ],
   "source": [
    "a = 3\n",
    "isinstance(3, str)"
   ]
  },
  {
   "cell_type": "code",
   "execution_count": 68,
   "metadata": {},
   "outputs": [],
   "source": [
    "def isInt(a):\n",
    "    # return whether a is int or not, and the type of a\n",
    "#     if isinstance(a, int): return True, type(a)\n",
    "#     return False, type(a)\n",
    "    return isinstance(a, int), type(a)"
   ]
  },
  {
   "cell_type": "code",
   "execution_count": 69,
   "metadata": {},
   "outputs": [
    {
     "name": "stdout",
     "output_type": "stream",
     "text": [
      "False <class 'float'>\n"
     ]
    }
   ],
   "source": [
    "ret_bool, ret_type = isInt(3.4)\n",
    "print(ret_bool, ret_type)"
   ]
  },
  {
   "cell_type": "code",
   "execution_count": null,
   "metadata": {},
   "outputs": [],
   "source": []
  }
 ],
 "metadata": {
  "kernelspec": {
   "display_name": "Python 3",
   "language": "python",
   "name": "python3"
  },
  "language_info": {
   "codemirror_mode": {
    "name": "ipython",
    "version": 3
   },
   "file_extension": ".py",
   "mimetype": "text/x-python",
   "name": "python",
   "nbconvert_exporter": "python",
   "pygments_lexer": "ipython3",
   "version": "3.8.6"
  }
 },
 "nbformat": 4,
 "nbformat_minor": 4
}
