{
 "cells": [
  {
   "cell_type": "markdown",
   "metadata": {},
   "source": [
    "## List Practice"
   ]
  },
  {
   "cell_type": "code",
   "execution_count": 1,
   "metadata": {},
   "outputs": [
    {
     "name": "stdout",
     "output_type": "stream",
     "text": [
      "[7, 3, 5, 9, 8, 2, 6, 1, 8, 9, 6, 1, 10, 7, 7, 4, 4, 3, 8, 4, 1, 0, 0, 0, 1, 1, 0, 9, 2, 3]\n",
      "17\n"
     ]
    },
    {
     "data": {
      "text/plain": [
       "True"
      ]
     },
     "execution_count": 1,
     "metadata": {},
     "output_type": "execute_result"
    }
   ],
   "source": [
    "# Given the list 'l', which is consisted of 30 random numbers ranging from 0 to 10,\n",
    "# count the number of elements in 'l' that are smaller than 5 using the given variable 'count'\n",
    "# 'count' is initialized to 0\n",
    "# You can use any techniques we have discussed -- for loop, while loop, or list comprehension.\n",
    "# TODO: Make the cell print 'True'\n",
    "import random\n",
    "l = [random.randint(0, 10) for i in range(30)]\n",
    "print(l)\n",
    "count = 0\n",
    "\n",
    "# Your code goes below here\n",
    "\n",
    "# 1. Using for loop\n",
    "for i in l:\n",
    "    if i < 5:\n",
    "        count += 1\n",
    "\n",
    "# print(count)\n",
    "\n",
    "\n",
    "# 2. Using while loop\n",
    "count = 0\n",
    "index = 0\n",
    "while index < len(l):\n",
    "    if l[index] < 5:\n",
    "        count += 1\n",
    "    index += 1\n",
    "\n",
    "# print(count)\n",
    "\n",
    "\n",
    "# 3. Using list comprehension\n",
    "len([i for i in l if i < 5])\n",
    "print(count)\n",
    "\n",
    "\n",
    "# Do not modify below!\n",
    "import numpy as np\n",
    "count == np.sum(np.array(l) < 5)"
   ]
  },
  {
   "cell_type": "markdown",
   "metadata": {},
   "source": [
    "Now, this one gets a little bit trickier. You would remember discussing about a **nested list** from Week 2 -- a list that is consisted of lists. An example of a nested list would look like this: `[[1, 2], [3, 4], [5, 6]]`. To access a *list of list element* in the nested list, you would use the **index operator** (which we often refer to as the *square bracket* `[]`) as usual, just that you would use it twice instead of once.\n",
    "\n",
    "To be specific, lets name the list seen above as `nest_list`. To access the list `[3, 4]` in `nest_list`, the appropriate way would be `nest_list[1]`. Similarly, to access `5`, you would access it like this: `nested_list[2][0]`. Just like how you would modify a simple list, you can modify the nested list using multiple index operators as well."
   ]
  },
  {
   "cell_type": "markdown",
   "metadata": {},
   "source": [
    "Based on this fact, let's work on the task below.\n",
    "Below is the *pseudocode* for this task. If you are curious about what *pseudocode* is, please refer to this page: https://en.wikipedia.org/wiki/Pseudocode\n",
    "\n",
    "```\n",
    "for i in l:\n",
    "    if freq_list at the 0 index of i index list is None,\n",
    "        set it to i and increase the frequency by 1\n",
    "    else,\n",
    "        increase the frequency at the 1 index of i index of freq_list by 1\n",
    "```"
   ]
  },
  {
   "cell_type": "markdown",
   "metadata": {},
   "source": [
    "For better understanding, if `l = [0, 2, 3, 4, 3, 5, 4, 4, 1]`, `freq_list = [[0, 1], [1, 1], [2, 1], [3, 2], [4, 3], [5, 1]]` since 0, 1, 2, 3, 4, 5 each appears 1, 1, 1, 2, 3, 1 times, respectively, in `l`"
   ]
  },
  {
   "cell_type": "code",
   "execution_count": 25,
   "metadata": {},
   "outputs": [
    {
     "ename": "IndexError",
     "evalue": "list assignment index out of range",
     "output_type": "error",
     "traceback": [
      "\u001b[1;31m---------------------------------------------------------------------------\u001b[0m",
      "\u001b[1;31mIndexError\u001b[0m                                Traceback (most recent call last)",
      "\u001b[1;32m<ipython-input-25-ef1c2328629c>\u001b[0m in \u001b[0;36m<module>\u001b[1;34m\u001b[0m\n\u001b[0;32m     15\u001b[0m     \u001b[1;32mif\u001b[0m \u001b[0ml\u001b[0m\u001b[1;33m[\u001b[0m\u001b[0mindex\u001b[0m\u001b[1;33m]\u001b[0m \u001b[1;33m==\u001b[0m \u001b[0mi\u001b[0m\u001b[1;33m:\u001b[0m\u001b[1;33m\u001b[0m\u001b[1;33m\u001b[0m\u001b[0m\n\u001b[0;32m     16\u001b[0m         \u001b[0mcount\u001b[0m \u001b[1;33m+=\u001b[0m \u001b[1;36m1\u001b[0m\u001b[1;33m\u001b[0m\u001b[1;33m\u001b[0m\u001b[0m\n\u001b[1;32m---> 17\u001b[1;33m     \u001b[0mfreq_list\u001b[0m\u001b[1;33m[\u001b[0m\u001b[0mindex\u001b[0m\u001b[1;33m]\u001b[0m \u001b[1;33m=\u001b[0m \u001b[1;33m[\u001b[0m\u001b[0mindex\u001b[0m\u001b[1;33m,\u001b[0m \u001b[0mcount\u001b[0m\u001b[1;33m]\u001b[0m\u001b[1;33m\u001b[0m\u001b[1;33m\u001b[0m\u001b[0m\n\u001b[0m\u001b[0;32m     18\u001b[0m     \u001b[0mindex\u001b[0m \u001b[1;33m+=\u001b[0m \u001b[1;36m1\u001b[0m\u001b[1;33m\u001b[0m\u001b[1;33m\u001b[0m\u001b[0m\n\u001b[0;32m     19\u001b[0m     \u001b[0mcount\u001b[0m \u001b[1;33m=\u001b[0m \u001b[1;36m0\u001b[0m\u001b[1;33m\u001b[0m\u001b[1;33m\u001b[0m\u001b[0m\n",
      "\u001b[1;31mIndexError\u001b[0m: list assignment index out of range"
     ]
    }
   ],
   "source": [
    "# Given list 'l', which is declared in the above cell,\n",
    "# create a frequency list such that in each sublist of the frequency list, \n",
    "# at the first index stores the value of the element and at the second index stores the frequency of the value\n",
    "# frequency list is named 'freq_list', and it is guaranteed that max(l) <= len(freq_list)\n",
    "# TODO: Make the cell print 'True'\n",
    "# Hint: When comparing None, you can simply use the '==' operator. (ex: a == None)\n",
    "\n",
    "l = [0, 2, 3, 4, 3, 5, 4, 4, 1]\n",
    "freq_list = [[None, 0] for _ in range(max(l) + 1)]\n",
    "# Your code goes below here\n",
    "count = 0\n",
    "index = 0\n",
    "\n",
    "for i in l:\n",
    "    if l[index] == i:\n",
    "        count += 1\n",
    "    freq_list[index] = [index, count]\n",
    "    index += 1\n",
    "    count = 0\n",
    "    \n",
    "print(freq_list)\n",
    "\n",
    "\n",
    "\n",
    "\n",
    "\n",
    "\n",
    "# Do not modify below!\n",
    "unique_elements, counts_elements = np.unique(l, return_counts=True)\n",
    "[i[1] for i in freq_list if i[1] > 0] == counts_elements.tolist()"
   ]
  },
  {
   "cell_type": "markdown",
   "metadata": {},
   "source": [
    "## Simple functions"
   ]
  },
  {
   "cell_type": "code",
   "execution_count": 9,
   "metadata": {},
   "outputs": [
    {
     "name": "stdout",
     "output_type": "stream",
     "text": [
      "True\n",
      "True\n",
      "True\n"
     ]
    }
   ],
   "source": [
    "# Write a function 'sumOrMult' that takes two input parameters, a and b,\n",
    "# and returns the sum of a and b if the difference between a and b is an even number,\n",
    "# and returns the multiple of a and b if the difference between a and b is an odd number\n",
    "# for error handling, if a is None, set it to 0\n",
    "# TODO: Make the cell print 'True' for all test cases\n",
    "\n",
    "# Your code goes below here\n",
    "def sumOrMult(a, b):\n",
    "    if a == None:\n",
    "        a = 0\n",
    "    if (a - b) % 2 == 0:\n",
    "        return a + b\n",
    "    elif (a - b) % 2 == 1:\n",
    "        return a * b\n",
    "\n",
    "\n",
    "\n",
    "\n",
    "\n",
    "\n",
    "\n",
    "\n",
    "\n",
    "\n",
    "# Do not modify below!\n",
    "print(sumOrMult(2, 3) == 6)\n",
    "print(sumOrMult(5, 4) == 20)\n",
    "print(sumOrMult(None, 4) == 4)"
   ]
  },
  {
   "cell_type": "code",
   "execution_count": 21,
   "metadata": {},
   "outputs": [
    {
     "data": {
      "text/plain": [
       "True"
      ]
     },
     "execution_count": 21,
     "metadata": {},
     "output_type": "execute_result"
    }
   ],
   "source": [
    "# Write a function 'sumOrMultList' that takes a input parameter, 'l', which is a nested list,\n",
    "# calls sumOrMult() for index 0 and 1 for each sublist of 'l', append the returned values to a new list\n",
    "# and returns the new list\n",
    "# TODO: Make the cell print 'True'\n",
    "\n",
    "# Your code goes below here\n",
    "\n",
    "def sumOrMultList(l):\n",
    "    list = []\n",
    "    count = 0\n",
    "    for i in l:\n",
    "        result = sumOrMult(l[count][0], l[count][1])\n",
    "        list.append(result)\n",
    "        count += 1\n",
    "    return list\n",
    "\n",
    "\n",
    "\n",
    "\n",
    "\n",
    "\n",
    "\n",
    "# Do not modify below!\n",
    "sumOrMultList([[1, 6], [None, 2], [3, 5]]) == [6, 2, 8]"
   ]
  },
  {
   "cell_type": "code",
   "execution_count": 62,
   "metadata": {},
   "outputs": [],
   "source": [
    "# call sumOrMultList on freq_list that you have created above, \n",
    "# compare the result to your freq_list and see if the result is reasonable\n",
    "\n",
    "# your code goes below here\n",
    "\n",
    "\n",
    "\n",
    "\n",
    "\n",
    "\n",
    "\n",
    "\n",
    "\n"
   ]
  }
 ],
 "metadata": {
  "kernelspec": {
   "display_name": "Python 3",
   "language": "python",
   "name": "python3"
  },
  "language_info": {
   "codemirror_mode": {
    "name": "ipython",
    "version": 3
   },
   "file_extension": ".py",
   "mimetype": "text/x-python",
   "name": "python",
   "nbconvert_exporter": "python",
   "pygments_lexer": "ipython3",
   "version": "3.8.6"
  }
 },
 "nbformat": 4,
 "nbformat_minor": 4
}
