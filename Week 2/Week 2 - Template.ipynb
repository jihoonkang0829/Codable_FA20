{
 "cells": [
  {
   "cell_type": "markdown",
   "metadata": {},
   "source": [
    "## If/else statement"
   ]
  },
  {
   "cell_type": "code",
   "execution_count": 30,
   "metadata": {},
   "outputs": [
    {
     "name": "stdout",
     "output_type": "stream",
     "text": [
      "a is larger than 0\n",
      "a is a negative number\n"
     ]
    }
   ],
   "source": [
    "# >, <, >=, <= operator\n",
    "a = 3\n",
    "b = 3\n",
    "if a > b: print(\"a is larger than b\")\n",
    "if a > 0: print(\"a is larger than 0\") # else if\n",
    "if a % 2 == 0: print(\"a is an even number\")\n",
    "else: print(\"a is a negative number\")"
   ]
  },
  {
   "cell_type": "code",
   "execution_count": 2,
   "metadata": {},
   "outputs": [
    {
     "name": "stdout",
     "output_type": "stream",
     "text": [
      "208.42984431218096\n"
     ]
    }
   ],
   "source": [
    "# Exercise: If/else statement\n",
    "# TODO: Write an if/else statement that \n",
    "# prints the value of 'a' when the remainder divided by 3 is 1,\n",
    "# prints the square of 'a' when the remainder divided by 3 is 2,\n",
    "# prints the square root of 'a' when the remainder divided by 3 is 0\n",
    "\n",
    "a = 43443\n",
    "if a % 3 == 1: print(a)\n",
    "elif a % 3 == 2: print(a ** 2)\n",
    "else: print(a ** 0.5)"
   ]
  },
  {
   "cell_type": "markdown",
   "metadata": {},
   "source": [
    "## Loopy Loops"
   ]
  },
  {
   "cell_type": "code",
   "execution_count": 80,
   "metadata": {},
   "outputs": [
    {
     "name": "stdout",
     "output_type": "stream",
     "text": [
      "0\n",
      "1\n",
      "2\n",
      "3\n",
      "4\n",
      "5\n",
      "6\n",
      "7\n",
      "8\n",
      "9\n",
      "\n",
      "25\n",
      "36\n",
      "49\n",
      "64\n",
      "81\n",
      "\n",
      "1000\n",
      "729\n",
      "512\n",
      "343\n",
      "216\n",
      "\n",
      "5\n",
      "7\n",
      "9\n",
      "\n",
      "Hello World\n",
      "Hello World\n",
      "Hello World\n",
      "Hello World\n",
      "Hello World\n",
      "Hello World\n",
      "Hello World\n",
      "Hello World\n",
      "Hello World\n",
      "Hello World\n"
     ]
    }
   ],
   "source": [
    "# For loops\n",
    "for i in range(10): print(i)\n",
    "print()\n",
    "\n",
    "for i in range(5,10): print(i**2)\n",
    "print()\n",
    "\n",
    "for i in range(10, 5, -1): print(i**3)\n",
    "print()\n",
    "\n",
    "for i in range(5, 10, 2): print(i)\n",
    "print()\n",
    "\n",
    "for _ in range(10): print(\"Hello World\")\n",
    "    "
   ]
  },
  {
   "cell_type": "code",
   "execution_count": 87,
   "metadata": {},
   "outputs": [
    {
     "name": "stdout",
     "output_type": "stream",
     "text": [
      "100\n",
      "121\n",
      "12\n",
      "169\n",
      "196\n",
      "15\n",
      "256\n",
      "289\n",
      "18\n",
      "361\n",
      "400\n",
      "\n",
      "100\n",
      "121\n",
      "12\n",
      "169\n",
      "196\n",
      "15\n",
      "256\n",
      "289\n",
      "18\n",
      "361\n",
      "400\n"
     ]
    }
   ],
   "source": [
    "# Exercise: From 10 to 20, print the number if the number is a multiple of 3, else print the square of the number\n",
    "\n",
    "for i in range(10, 21):\n",
    "    if i % 3 == 0: print(i)\n",
    "    else: print(i ** 2)\n",
    "\n",
    "print()\n",
    "# Ternary operator\n",
    "for i in range(10, 21): print(i) if i % 3 == 0 else print(i ** 2)"
   ]
  },
  {
   "cell_type": "code",
   "execution_count": 123,
   "metadata": {},
   "outputs": [
    {
     "name": "stdout",
     "output_type": "stream",
     "text": [
      "1\n",
      "4\n",
      "9\n",
      "16\n",
      "25\n",
      "36\n",
      "49\n"
     ]
    },
    {
     "data": {
      "text/plain": [
       "3.0"
      ]
     },
     "execution_count": 123,
     "metadata": {},
     "output_type": "execute_result"
    }
   ],
   "source": [
    "# Exercise: From 1 to 50, print the number if the number is a square number\n",
    "# Hint: Casting to int\n",
    "for i in range(1, 51):\n",
    "    if int(i ** 0.5)**2 == i: print(i)"
   ]
  },
  {
   "cell_type": "markdown",
   "metadata": {},
   "source": [
    "## For loops and while loops are interchangeable!"
   ]
  },
  {
   "cell_type": "code",
   "execution_count": 31,
   "metadata": {},
   "outputs": [
    {
     "name": "stdout",
     "output_type": "stream",
     "text": [
      "0\n",
      "1\n",
      "2\n",
      "3\n",
      "4\n",
      "5\n",
      "6\n",
      "7\n",
      "8\n",
      "9\n",
      "\n",
      "25\n",
      "36\n",
      "49\n",
      "64\n",
      "81\n"
     ]
    }
   ],
   "source": [
    "i = 0\n",
    "while(i < 10): # While the condition is true\n",
    "    print(i)\n",
    "    i += 1\n",
    "print()\n",
    "\n",
    "i = 5\n",
    "while(i < 10):\n",
    "    print(i**2)\n",
    "    i += 1\n"
   ]
  },
  {
   "cell_type": "markdown",
   "metadata": {},
   "source": [
    "## List"
   ]
  },
  {
   "cell_type": "code",
   "execution_count": 33,
   "metadata": {},
   "outputs": [
    {
     "data": {
      "text/plain": [
       "1"
      ]
     },
     "execution_count": 33,
     "metadata": {},
     "output_type": "execute_result"
    }
   ],
   "source": [
    "l = [3, 2, 1, 0]\n",
    "len(l)\n",
    "l[-2]\n",
    "\n",
    "# l = [4, 3.14, \"Hello\"]\n",
    "# type(l[2])\n",
    "\n",
    "# l = [[1,2], [3,4], [5,6]]\n",
    "# l[1][1]"
   ]
  },
  {
   "cell_type": "code",
   "execution_count": 62,
   "metadata": {},
   "outputs": [
    {
     "name": "stdout",
     "output_type": "stream",
     "text": [
      "True\n"
     ]
    }
   ],
   "source": [
    "# List comprehension\n",
    "l = [0, 1, 2, 3, 4, 5, 6]\n",
    "ll = [i for i in range(7)]\n",
    "\n",
    "print(l == ll)"
   ]
  },
  {
   "cell_type": "code",
   "execution_count": 66,
   "metadata": {},
   "outputs": [
    {
     "name": "stdout",
     "output_type": "stream",
     "text": [
      "0x108abae40\n",
      "0x108ae1580\n",
      "True\n",
      "False\n",
      "0x106a94a70\n",
      "0x106a94a70\n",
      "0x106a94a90\n"
     ]
    }
   ],
   "source": [
    "# == vs is, memory\n",
    "print(hex(id(l)))\n",
    "print(hex(id(ll)))\n",
    "print(l == ll)\n",
    "print(l is ll)\n",
    "\n",
    "a = b = 3\n",
    "print(hex(id(a)))\n",
    "print(hex(id(b)))\n",
    "a += 1\n",
    "print(hex(id(a)))"
   ]
  },
  {
   "cell_type": "code",
   "execution_count": 84,
   "metadata": {},
   "outputs": [
    {
     "name": "stdout",
     "output_type": "stream",
     "text": [
      "[0, 1, 2, 3, 4, 5, 6]\n",
      "[0, 3, 6, 9, 12, 15, 18]\n",
      "[0, 216, 1728, 5832]\n",
      "[0, 10077696, 5159780352, 198359290368]\n"
     ]
    }
   ],
   "source": [
    "# More list comprehensions!\n",
    "l = [0, 1, 2, 3, 4, 5, 6]\n",
    "print(l)\n",
    "\n",
    "l = [i*3 for i in l] # X do l= at first, ask\n",
    "print(l)\n",
    "\n",
    "# Question: How would this behave?\n",
    "# l = [i**3 for i in l if i % 2 == 0]\n",
    "# print(l)\n",
    "\n",
    "l = [i**3 if i % 2 == 0 else i for i in l]\n",
    "print(l)\n",
    "\n"
   ]
  },
  {
   "cell_type": "code",
   "execution_count": 26,
   "metadata": {},
   "outputs": [
    {
     "name": "stdout",
     "output_type": "stream",
     "text": [
      "[20, 12, 21, 12, 21, 14, 15, 22, 25, 29, 20, 3, 1, 29, 20, 1, 19, 22, 20, 14, 14, 6, 16, 0, 21, 17, 29, 10, 18, 20]\n",
      "6\n",
      "6\n",
      "6\n"
     ]
    }
   ],
   "source": [
    "# Exercise: Count the number of elements in the list that is smaller or equal to 10\n",
    "import random\n",
    "l = [random.randint(0, 30) for i in range(30)]\n",
    "print(l)\n",
    "\n",
    "count = 0\n",
    "for i in range(len(l)):\n",
    "    if l[i] <= 10:\n",
    "        count += 1\n",
    "print(count)\n",
    "\n",
    "count = 0\n",
    "for i in l: \n",
    "    if i <= 10: \n",
    "        count += 1\n",
    "print(count)\n",
    "\n",
    "print(len([i for i in l if i <= 10]))"
   ]
  },
  {
   "cell_type": "code",
   "execution_count": 21,
   "metadata": {},
   "outputs": [],
   "source": [
    "## Functions\n",
    "def simplePlus(a, b = 7):\n",
    "    return a + b"
   ]
  },
  {
   "cell_type": "code",
   "execution_count": 23,
   "metadata": {},
   "outputs": [
    {
     "data": {
      "text/plain": [
       "9"
      ]
     },
     "execution_count": 23,
     "metadata": {},
     "output_type": "execute_result"
    }
   ],
   "source": [
    "a = simplePlus(2)\n",
    "a"
   ]
  },
  {
   "cell_type": "code",
   "execution_count": 28,
   "metadata": {},
   "outputs": [
    {
     "data": {
      "text/plain": [
       "16"
      ]
     },
     "execution_count": 28,
     "metadata": {},
     "output_type": "execute_result"
    }
   ],
   "source": [
    "# Exercise: write a function that returns the sum of all even numbers in the list\n",
    "def listEvenSum(a):  \n",
    "    evenSum = 0\n",
    "    for i in a:\n",
    "        if i % 2 == 0:\n",
    "            evenSum += i\n",
    "            \n",
    "    return evenSum\n",
    "\n",
    "#     return sum([i for i in a if i % 2 == 0])\n",
    "\n",
    "\n",
    "\n",
    "\n",
    "a = [2, 5, 6, 8]\n",
    "listEvenSum(a)"
   ]
  },
  {
   "cell_type": "code",
   "execution_count": 29,
   "metadata": {},
   "outputs": [
    {
     "data": {
      "text/plain": [
       "24"
      ]
     },
     "execution_count": 29,
     "metadata": {},
     "output_type": "execute_result"
    }
   ],
   "source": [
    "# Exercise: write a function that returns a factorial of the input integer\n",
    "def factorial(a):\n",
    "    fact = 1\n",
    "    for i in range(1, a+1):\n",
    "        fact *= i\n",
    "    return fact\n",
    "\n",
    "factorial(4)"
   ]
  },
  {
   "cell_type": "code",
   "execution_count": null,
   "metadata": {},
   "outputs": [],
   "source": []
  }
 ],
 "metadata": {
  "kernelspec": {
   "display_name": "Python 3",
   "language": "python",
   "name": "python3"
  },
  "language_info": {
   "codemirror_mode": {
    "name": "ipython",
    "version": 3
   },
   "file_extension": ".py",
   "mimetype": "text/x-python",
   "name": "python",
   "nbconvert_exporter": "python",
   "pygments_lexer": "ipython3",
   "version": "3.8.5"
  }
 },
 "nbformat": 4,
 "nbformat_minor": 4
}
