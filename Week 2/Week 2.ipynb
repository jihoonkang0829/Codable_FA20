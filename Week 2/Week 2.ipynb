{
 "cells": [
  {
   "cell_type": "markdown",
   "metadata": {},
   "source": [
    "## If/else statement"
   ]
  },
  {
   "cell_type": "code",
   "execution_count": 122,
   "metadata": {},
   "outputs": [
    {
     "name": "stdout",
     "output_type": "stream",
     "text": [
      "a is larger than b\n"
     ]
    }
   ],
   "source": [
    "# >, <. >=, <= operator\n",
    "\n",
    "a = 3\n",
    "b = 2\n",
    "if a > b: print(\"a is larger than b\")\n",
    "elif a > 0: print(\"a is larger than 0\")\n",
    "elif a % 2 == 0: print(\"a is an even number\")\n",
    "else: print(\"a is a negative odd number\")"
   ]
  },
  {
   "cell_type": "code",
   "execution_count": 123,
   "metadata": {},
   "outputs": [
    {
     "name": "stdout",
     "output_type": "stream",
     "text": [
      "a is larger than b\n"
     ]
    }
   ],
   "source": [
    "# This cell behaves equally to the cell written above.\n",
    "# elif statement is expanded as seen below.\n",
    "\n",
    "if a > b: print(\"a is larger than b\")\n",
    "else:\n",
    "    if a > b: print(\"a is larger than b\")\n",
    "    else:\n",
    "        if a > 0: print(\"a is larger than 0\")\n",
    "        else:\n",
    "            if a % 2 == 0: print(\"a is an even number\")\n",
    "            else: print(\"a is a negative odd number\")"
   ]
  },
  {
   "cell_type": "code",
   "execution_count": 9,
   "metadata": {},
   "outputs": [
    {
     "name": "stdout",
     "output_type": "stream",
     "text": [
      "18094554256\n"
     ]
    }
   ],
   "source": [
    "# Exercise: If/else statement\n",
    "# TODO: Write an if/else statement that\n",
    "# prints the value of 'a' when the remainder divided by 3 is 1,\n",
    "# prints the square of 'a' when the remainder divided by 3 is 2,\n",
    "# prints the square root of 'a' when the remainder divided by 3 is 0\n",
    "\n",
    "a = 134516\n",
    "if a % 3 == 1: print (a)\n",
    "elif a % 3 == 2: print(a**2)\n",
    "else: print(a**0.5)\n"
   ]
  },
  {
   "cell_type": "markdown",
   "metadata": {},
   "source": [
    "## Loops"
   ]
  },
  {
   "cell_type": "code",
   "execution_count": 20,
   "metadata": {},
   "outputs": [
    {
     "name": "stdout",
     "output_type": "stream",
     "text": [
      "0.0\n",
      "1.0\n",
      "1.4142135623730951\n",
      "1.7320508075688772\n",
      "2.0\n",
      "2.23606797749979\n",
      "2.449489742783178\n",
      "2.6457513110645907\n",
      "2.8284271247461903\n",
      "3.0\n"
     ]
    }
   ],
   "source": [
    "# for(int i = 0; i < 10; i++)\n",
    "# for i in range(10):\n",
    "#     print(i)\n",
    "\n",
    "# print()\n",
    "# for i in range(5, 10):\n",
    "#     print(i)\n",
    "# print()\n",
    "\n",
    "# for i in range(10, 5, -1):\n",
    "#     print(i)\n",
    "\n",
    "# print()\n",
    "# for i in range(5, 10, 2):\n",
    "#     print(i)\n",
    "    \n",
    "for i in range(10):\n",
    "    print(i ** 0.5)\n",
    "    "
   ]
  },
  {
   "cell_type": "code",
   "execution_count": 24,
   "metadata": {},
   "outputs": [
    {
     "name": "stdout",
     "output_type": "stream",
     "text": [
      "100\n",
      "121\n",
      "12\n",
      "169\n",
      "196\n",
      "15\n",
      "256\n",
      "289\n",
      "18\n",
      "361\n",
      "400\n",
      "\n",
      "100\n",
      "121\n",
      "12\n",
      "169\n",
      "196\n",
      "15\n",
      "256\n",
      "289\n",
      "18\n",
      "361\n",
      "400\n"
     ]
    }
   ],
   "source": [
    "# Exercise: From 10 to 20: print the number if the number is a multiple of 3, else print the square of the number\n",
    "\n",
    "for i in range(10, 21):\n",
    "    if i % 3 == 0: print(i)\n",
    "    else: print(i ** 2)\n",
    "print()\n",
    "\n",
    "# Ternary operator\n",
    "for i in range(10, 21): print(i) if i % 3 == 0 else print(i ** 2) \n"
   ]
  },
  {
   "cell_type": "code",
   "execution_count": 40,
   "metadata": {},
   "outputs": [
    {
     "name": "stdout",
     "output_type": "stream",
     "text": [
      "1\n",
      "4\n",
      "9\n",
      "16\n",
      "25\n",
      "36\n",
      "49\n"
     ]
    }
   ],
   "source": [
    "# Exercise: From 1 to 50, print the number if the number is a square number\n",
    "# X use other libraries such as math\n",
    "# Hint: Casting to int\n",
    "\n",
    "\n",
    "# for i in range(1, 51):\n",
    "# i = 10000000000000001\n",
    "# if (i ** 0.5) == int(i ** 0.5): print(i)\n",
    "for i in range(1, 51):\n",
    "    if int(i** 0.5) ** 2 == i: print(i)"
   ]
  },
  {
   "cell_type": "markdown",
   "metadata": {},
   "source": [
    "## For loops and while loops are interchangeable!"
   ]
  },
  {
   "cell_type": "code",
   "execution_count": 43,
   "metadata": {},
   "outputs": [
    {
     "name": "stdout",
     "output_type": "stream",
     "text": [
      "5\n",
      "7\n",
      "9\n",
      "\n",
      "5\n",
      "7\n",
      "9\n"
     ]
    }
   ],
   "source": [
    "for i in range(5, 10, 2):\n",
    "    print(i)\n",
    "\n",
    "print()\n",
    "\n",
    "\n",
    "i = 5\n",
    "while(i < 10):\n",
    "    print(i)\n",
    "    i += 2"
   ]
  },
  {
   "cell_type": "markdown",
   "metadata": {},
   "source": [
    "## List"
   ]
  },
  {
   "cell_type": "code",
   "execution_count": 68,
   "metadata": {},
   "outputs": [
    {
     "data": {
      "text/plain": [
       "4"
      ]
     },
     "execution_count": 68,
     "metadata": {},
     "output_type": "execute_result"
    }
   ],
   "source": [
    "l = [5, 10, 15, 20, 25, 30]\n",
    "l[-1]\n",
    "\n",
    "l = [[1, 2], [3, 4], [5, 6]]\n",
    "l[1][1]"
   ]
  },
  {
   "cell_type": "code",
   "execution_count": 72,
   "metadata": {},
   "outputs": [
    {
     "data": {
      "text/plain": [
       "True"
      ]
     },
     "execution_count": 72,
     "metadata": {},
     "output_type": "execute_result"
    }
   ],
   "source": [
    "# List comprehension\n",
    "l = [0, 1, 2, 3, 4, 5, 6, 7]\n",
    "\n",
    "ll = [i for i in range(8)]\n",
    "\n",
    "\n",
    "\n",
    "l == ll"
   ]
  },
  {
   "cell_type": "code",
   "execution_count": 88,
   "metadata": {},
   "outputs": [
    {
     "name": "stdout",
     "output_type": "stream",
     "text": [
      "[0, 1, 2, 3, 4, 5, 6, 7]\n",
      "[0, 1, 2, 3, 4, 5, 6, 7]\n",
      "0x106515440\n",
      "0x106517a80\n"
     ]
    },
    {
     "data": {
      "text/plain": [
       "False"
      ]
     },
     "execution_count": 88,
     "metadata": {},
     "output_type": "execute_result"
    }
   ],
   "source": [
    "# == vs is, memory\n",
    "# a = 2345\n",
    "# b = 2345\n",
    "\n",
    "# print(hex(id(a)))\n",
    "# print(hex(id(b)))\n",
    "\n",
    "# a, b = 2, 2\n",
    "# a == b\n",
    "# a is b\n",
    "print(l)\n",
    "print(ll)\n",
    "l == ll\n",
    "print(hex(id(l)))\n",
    "print(hex(id(ll)))\n",
    "l is ll"
   ]
  },
  {
   "cell_type": "code",
   "execution_count": 91,
   "metadata": {},
   "outputs": [
    {
     "name": "stdout",
     "output_type": "stream",
     "text": [
      "1.2\n",
      "3.5\n",
      "2.7\n"
     ]
    }
   ],
   "source": [
    "# print(l)\n",
    "# [i*3 for i in l]\n",
    "l = [1.2, 3.5, 2.7]\n",
    "\n",
    "for i in l:\n",
    "    print(i)"
   ]
  },
  {
   "cell_type": "code",
   "execution_count": null,
   "metadata": {},
   "outputs": [],
   "source": []
  }
 ],
 "metadata": {
  "kernelspec": {
   "display_name": "Python 3",
   "language": "python",
   "name": "python3"
  },
  "language_info": {
   "codemirror_mode": {
    "name": "ipython",
    "version": 3
   },
   "file_extension": ".py",
   "mimetype": "text/x-python",
   "name": "python",
   "nbconvert_exporter": "python",
   "pygments_lexer": "ipython3",
   "version": "3.8.5"
  }
 },
 "nbformat": 4,
 "nbformat_minor": 4
}
