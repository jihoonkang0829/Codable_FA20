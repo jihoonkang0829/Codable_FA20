{
 "cells": [
  {
   "cell_type": "markdown",
   "metadata": {},
   "source": [
    "# Week 2 Tasks"
   ]
  },
  {
   "cell_type": "markdown",
   "metadata": {},
   "source": [
    "During this week's meeting, we have discussed about if/else statements, Loops and Lists. This notebook file will guide you through reviewing the topics discussed and assisting you to be familiarized with the concepts discussed."
   ]
  },
  {
   "cell_type": "markdown",
   "metadata": {},
   "source": [
    "## Let's first create a list"
   ]
  },
  {
   "cell_type": "code",
   "execution_count": 1,
   "metadata": {},
   "outputs": [
    {
     "data": {
      "text/plain": [
       "True"
      ]
     },
     "execution_count": 1,
     "metadata": {},
     "output_type": "execute_result"
    }
   ],
   "source": [
    "# Create a list that stores the multiples of 5, from 0 to 50 (inclusive)\n",
    "# initialize the list using list comprehension!\n",
    "# Set the list name to be 'l'\n",
    "# TODO: Make the cell return 'True'\n",
    "# Hint: Do you remember that you can apply arithmetic operators in the list comprehension?\n",
    "\n",
    "# Your code goes below here\n",
    "\n",
    "\n",
    "\n",
    "\n",
    "\n",
    "# Do not modify below\n",
    "l == [0, 5, 10, 15, 20, 25, 30, 35, 40, 45, 50]"
   ]
  },
  {
   "cell_type": "markdown",
   "metadata": {},
   "source": [
    "If you are eager to learn more about list comprehension, you can look up here -> https://www.programiz.com/python-programming/list-comprehension. You will find out how you can initialize `l` without using arithmetic operators, but using conditionals (if/else).\n",
    "\n",
    "Now, simply run the cell below, and observe how `l` has changed."
   ]
  },
  {
   "cell_type": "code",
   "execution_count": 2,
   "metadata": {},
   "outputs": [
    {
     "name": "stdout",
     "output_type": "stream",
     "text": [
      "[3, 5, 10, 15, 20, 25, 30, 35, 40, 45, 50]\n"
     ]
    }
   ],
   "source": [
    "l[0] = 3\n",
    "print(l)"
   ]
  },
  {
   "cell_type": "markdown",
   "metadata": {},
   "source": [
    "As seen above, you can overwrite each elements of the list.\n",
    "\n",
    "Using this fact, complete the task written below."
   ]
  },
  {
   "cell_type": "markdown",
   "metadata": {},
   "source": [
    "## If/elif/else practice"
   ]
  },
  {
   "cell_type": "code",
   "execution_count": 5,
   "metadata": {},
   "outputs": [
    {
     "data": {
      "text/plain": [
       "True"
      ]
     },
     "execution_count": 5,
     "metadata": {},
     "output_type": "execute_result"
    }
   ],
   "source": [
    "# Write a for loop such that:\n",
    "# For each elements in the list l,\n",
    "# If the element is divisible by 6, divide the element by 6\n",
    "# Else if the element is divisible by 3, divide the element by 3 and then add 4\n",
    "# Else if the element is divisible by 2, subtract 10.\n",
    "# Else, square the element\n",
    "# TODO: Make the cell return 'True'\n",
    "\n",
    "l = [3, 5, 10, 15, 20, 25, 30, 35, 40, 45, 50]\n",
    "\n",
    "# Your code goes below here\n",
    "\n",
    "\n",
    "\n",
    "\n",
    "\n",
    "\n",
    "\n",
    "# Do not modify below\n",
    "l = [int(i) for i in l]\n",
    "l == [5, 25, 0, 9, 10, 625, 5, 1225, 30, 19, 40]"
   ]
  },
  {
   "cell_type": "markdown",
   "metadata": {},
   "source": [
    "## Limitations of a ternary operator"
   ]
  },
  {
   "cell_type": "code",
   "execution_count": 6,
   "metadata": {},
   "outputs": [
    {
     "name": "stdout",
     "output_type": "stream",
     "text": [
      "There are 7 odd numbers in the list.\n",
      "There are 4 even numbers in the list.\n",
      "True\n"
     ]
    }
   ],
   "source": [
    "# Write a for loop that counts the number of odd number elements in the list \n",
    "# and the number of even number elements in the list\n",
    "# These should be stored in the variables 'odd_count' and 'even_count', which are declared below.\n",
    "# Try to use the ternary operator inside the for loop and inspect why it does not work\n",
    "# TODO: Make the cell return 'True'\n",
    "\n",
    "l = [5, 25, 0, 9, 10, 625, 5, 1225, 30, 19, 40]\n",
    "odd_count, even_count = 0, 0\n",
    "\n",
    "# Your code goes below here\n",
    "\n",
    "\n",
    "\n",
    "\n",
    "\n",
    "    \n",
    "    \n",
    "        \n",
    "        \n",
    "        \n",
    "# Do not modify below\n",
    "print(\"There are 7 odd numbers in the list.\") if odd_count == 7 else print(\"Your odd_count is not correct.\")\n",
    "print(\"There are 4 even numbers in the list.\") if even_count == 4 else print(\"Your even_count is not correct.\")\n",
    "print(odd_count == 7 and even_count == 4 and odd_count + even_count == len(l))"
   ]
  },
  {
   "cell_type": "markdown",
   "metadata": {},
   "source": [
    "If you have tried using the ternary operator in the cell above, you would have found that the cell fails to compile because of a syntax error. This is because you can only write *expressions* in ternary operators, specifically **the last segment of the three segments in the operator**, not *statements*.\n",
    "\n",
    "In other words, since your code (which last part of it would have been something like `odd_count += 1` or `even_count += 1`) is a *statement*, the code is syntactically incorrect.\n",
    "\n",
    "To learn more about *expressions* and *statements*, please refer to this webpage -> https://runestone.academy/runestone/books/published/thinkcspy/SimplePythonData/StatementsandExpressions.html\n",
    "\n",
    "Thus, a code like `a += 1 if <CONDITION> else b += 1` is syntactically wrong as `b += 1` is a *statement*, and we cannot use the ternary operator to achieve something like this.\n",
    "\n",
    "In fact, ternary operators are usually used like this: `a += 1 if <CONDITION> else 0`.\n",
    "\n",
    "The code above behaves exactly the same as this: `if <CONDITION>: a += 1 else: a = 0`. \n",
    "\n",
    "Does this give better understanding about why statements cannot be used in ternary operators? If not, feel free to do more research on your own, or open up a discussion during the next team meeting!\n"
   ]
  },
  {
   "cell_type": "markdown",
   "metadata": {},
   "source": [
    "## While loop and boolean practice"
   ]
  },
  {
   "cell_type": "code",
   "execution_count": 13,
   "metadata": {},
   "outputs": [
    {
     "name": "stdout",
     "output_type": "stream",
     "text": [
      "True\n"
     ]
    }
   ],
   "source": [
    "# Write a while loop that finds an index of the element in 'l' which first exceeds 1000.\n",
    "# The index found should be stored in the variable 'large_index'\n",
    "# If there are no element in 'l' that exceeds 1000, 'large_index' must store -1\n",
    "# Use the declared 'large_found' as the condition for the while loop\n",
    "# Use the declared 'index' to iterate through 'l'\n",
    "# Do not use 'break'\n",
    "# TODO: Make the cell return 'True'\n",
    "\n",
    "large_not_found = True\n",
    "index = 0\n",
    "large_index = 0\n",
    "\n",
    "# Your code goes below here\n",
    "\n",
    "\n",
    "        \n",
    "# Do not modify below\n",
    "print(large_index == 7)"
   ]
  },
  {
   "cell_type": "markdown",
   "metadata": {},
   "source": [
    "## Finding the minimum element"
   ]
  },
  {
   "cell_type": "code",
   "execution_count": 8,
   "metadata": {},
   "outputs": [
    {
     "name": "stdout",
     "output_type": "stream",
     "text": [
      "True\n"
     ]
    }
   ],
   "source": [
    "# For this task, you can use either for loop or while loop, depending on your preference\n",
    "# Find the smallest element in 'l' and store it in the declared variable 'min_value'\n",
    "# 'min_value' is initialized as a big number\n",
    "# Do not use min()\n",
    "# TODO: Make the cell return 'True'\n",
    "\n",
    "import sys\n",
    "min_value = sys.maxsize\n",
    "\n",
    "# Your code goes below here\n",
    "\n",
    "\n",
    "\n",
    "\n",
    "\n",
    "\n",
    "# Do not modify below\n",
    "print(min_value == 0)"
   ]
  },
  {
   "cell_type": "code",
   "execution_count": 1,
   "metadata": {},
   "outputs": [
    {
     "data": {
      "text/plain": [
       "81464"
      ]
     },
     "execution_count": 1,
     "metadata": {},
     "output_type": "execute_result"
    }
   ],
   "source": [
    "import os\n",
    "os.getpid()"
   ]
  },
  {
   "cell_type": "code",
   "execution_count": null,
   "metadata": {},
   "outputs": [],
   "source": []
  }
 ],
 "metadata": {
  "kernelspec": {
   "display_name": "Python 3",
   "language": "python",
   "name": "python3"
  },
  "language_info": {
   "codemirror_mode": {
    "name": "ipython",
    "version": 3
   },
   "file_extension": ".py",
   "mimetype": "text/x-python",
   "name": "python",
   "nbconvert_exporter": "python",
   "pygments_lexer": "ipython3",
   "version": "3.8.5"
  }
 },
 "nbformat": 4,
 "nbformat_minor": 4
}
