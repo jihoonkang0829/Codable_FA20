{
 "cells": [
  {
   "cell_type": "markdown",
   "metadata": {},
   "source": [
    "## Recursion contd."
   ]
  },
  {
   "cell_type": "code",
   "execution_count": 1,
   "metadata": {},
   "outputs": [],
   "source": [
    "# Recursive function to find the number of occurence of an element in a list\n",
    "def countOccurence(l: list , k: int) -> int:\n",
    "    if len(l) == 0: return 0\n",
    "    \n",
    "    if l[0] == k: return 1 + countOccurence(l[1:], k)\n",
    "    else: return 0 + countOccurence(l[1:], k)\n",
    "    "
   ]
  },
  {
   "cell_type": "code",
   "execution_count": 3,
   "metadata": {},
   "outputs": [
    {
     "name": "stdout",
     "output_type": "stream",
     "text": [
      "[10, 9, 10, 11, 12, 9, 10, 10, 13, 11, 13, 10, 10, 13, 10, 9, 7, 8, 8, 9]\n"
     ]
    },
    {
     "data": {
      "text/plain": [
       "7"
      ]
     },
     "execution_count": 3,
     "metadata": {},
     "output_type": "execute_result"
    }
   ],
   "source": [
    "import numpy as np\n",
    "l = np.random.normal(10, 2, 20).astype(int).tolist()\n",
    "print(l)\n",
    "countOccurence(l, 10)"
   ]
  },
  {
   "cell_type": "code",
   "execution_count": 7,
   "metadata": {},
   "outputs": [
    {
     "data": {
      "text/plain": [
       "-1"
      ]
     },
     "execution_count": 7,
     "metadata": {},
     "output_type": "execute_result"
    }
   ],
   "source": [
    "# Exercise: write a recursive function that calculates exponentials\n",
    "# You can assume that exponential is always greater or equal to zero\n",
    "# power(2, 5) --> 32\n",
    "\n",
    "def power(base: int, exponential: int) -> int:\n",
    "    if base == 0:\n",
    "        if exponential == 0: return -1\n",
    "        else: return 0\n",
    "    \n",
    "    if exponential == 0: return 1\n",
    "    else: \n",
    "        return base * power(base, exponential -1)\n",
    "    \n",
    "power(0, 0)"
   ]
  },
  {
   "cell_type": "code",
   "execution_count": 8,
   "metadata": {},
   "outputs": [],
   "source": [
    "# Exercise: write a recursive funtion that checks if an element exists in the list\n",
    "\n",
    "def isIn(l: list, k: int) -> bool:\n",
    "    if len(l) == 0: return False\n",
    "    if l[0] == k: return True\n",
    "    return isIn(l[1:], k)"
   ]
  },
  {
   "cell_type": "markdown",
   "metadata": {},
   "source": [
    "## Dictionary"
   ]
  },
  {
   "cell_type": "code",
   "execution_count": 15,
   "metadata": {},
   "outputs": [
    {
     "data": {
      "text/plain": [
       "{'a': 1, 'b': 3, 'd': 5, 'c': 3}"
      ]
     },
     "execution_count": 15,
     "metadata": {},
     "output_type": "execute_result"
    }
   ],
   "source": [
    "d = {}\n",
    "dd = dict()\n",
    "\n",
    "d = {'a':1, 'b':2, 'd':5}\n",
    "d.update({'c':3})\n",
    "d.update({'b':3})\n",
    "d"
   ]
  },
  {
   "cell_type": "code",
   "execution_count": 17,
   "metadata": {},
   "outputs": [],
   "source": [
    "l = [0, 1, 2, 3, 4, 5]\n",
    "d = {0:0, 1:1, 2:2, 3:3, 4:4, 5:5}"
   ]
  },
  {
   "cell_type": "code",
   "execution_count": 19,
   "metadata": {},
   "outputs": [
    {
     "data": {
      "text/plain": [
       "5"
      ]
     },
     "execution_count": 19,
     "metadata": {},
     "output_type": "execute_result"
    }
   ],
   "source": [
    "# lookup time: dict < list\n",
    "l.index(5)\n",
    "d[5]"
   ]
  },
  {
   "cell_type": "code",
   "execution_count": 25,
   "metadata": {},
   "outputs": [
    {
     "name": "stdout",
     "output_type": "stream",
     "text": [
      "CPU times: user 2 µs, sys: 0 ns, total: 2 µs\n",
      "Wall time: 5.25 µs\n",
      "CPU times: user 21.9 ms, sys: 150 µs, total: 22 ms\n",
      "Wall time: 22.1 ms\n"
     ]
    },
    {
     "data": {
      "text/plain": [
       "765432"
      ]
     },
     "execution_count": 25,
     "metadata": {},
     "output_type": "execute_result"
    }
   ],
   "source": [
    "d = {}\n",
    "l =[]\n",
    "for i in range(1000000):\n",
    "    d.update({i:i*100})\n",
    "    l.append([i, i*100])\n",
    "\n",
    "%time d[765432]\n",
    "%time l.index([765432, 76543200])"
   ]
  },
  {
   "cell_type": "code",
   "execution_count": 37,
   "metadata": {},
   "outputs": [
    {
     "data": {
      "text/plain": [
       "{'b': 3, 'd': 5, 'c': 4}"
      ]
     },
     "execution_count": 37,
     "metadata": {},
     "output_type": "execute_result"
    }
   ],
   "source": [
    "d = {'a':1, 'b':3, 'd':5, 'c':4}\n",
    "list(d.keys())\n",
    "list(d.values())\n",
    "d.pop('a')\n",
    "d"
   ]
  },
  {
   "cell_type": "code",
   "execution_count": 35,
   "metadata": {},
   "outputs": [
    {
     "name": "stdout",
     "output_type": "stream",
     "text": [
      "[5, 11, 8, 9, 6, 7, 9, 12, 9, 15, 10, 8, 10, 7, 11, 12, 7, 12, 10, 12]\n",
      "True\n"
     ]
    }
   ],
   "source": [
    "# frequency_dict\n",
    "def freqDict(l: list) -> dict:\n",
    "    d = {}\n",
    "    for i in l:\n",
    "        if i not in d:\n",
    "            d.update({i:0})\n",
    "        d[i] += 1\n",
    "    return d\n",
    "\n",
    "l = np.random.normal(10, 2, 20).astype(int).tolist()\n",
    "print(l)\n",
    "d =freqDict(l)\n",
    "print(sum(list(d.values())) == len(l))"
   ]
  },
  {
   "cell_type": "code",
   "execution_count": 41,
   "metadata": {},
   "outputs": [],
   "source": [
    "# Exercise: write a function that returns the sum of the values of the common keys in the two dictionaries\n",
    "# a: {1:2, 3:5, 0:7}, b: {3:2, 1:5, 6:2} --> 14\n",
    "\n",
    "def commonKeySum(a:dict, b:dict) -> int:\n",
    "    a_keys = list(a.keys())\n",
    "    key_sum = 0\n",
    "    for i in a_keys:\n",
    "        if i in b:\n",
    "            key_sum += a[i]\n",
    "            key_sum += b[i]\n",
    "    return key_sum"
   ]
  },
  {
   "cell_type": "code",
   "execution_count": 42,
   "metadata": {},
   "outputs": [
    {
     "data": {
      "text/plain": [
       "14"
      ]
     },
     "execution_count": 42,
     "metadata": {},
     "output_type": "execute_result"
    }
   ],
   "source": [
    "a = {1:2, 3:5, 0:7}\n",
    "b = {3:2, 1:5, 6:2}\n",
    "commonKeySum(a, b)"
   ]
  },
  {
   "cell_type": "code",
   "execution_count": null,
   "metadata": {},
   "outputs": [],
   "source": []
  }
 ],
 "metadata": {
  "kernelspec": {
   "display_name": "Python 3",
   "language": "python",
   "name": "python3"
  },
  "language_info": {
   "codemirror_mode": {
    "name": "ipython",
    "version": 3
   },
   "file_extension": ".py",
   "mimetype": "text/x-python",
   "name": "python",
   "nbconvert_exporter": "python",
   "pygments_lexer": "ipython3",
   "version": "3.8.6"
  }
 },
 "nbformat": 4,
 "nbformat_minor": 4
}
