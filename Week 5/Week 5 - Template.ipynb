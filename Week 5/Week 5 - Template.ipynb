{
 "cells": [
  {
   "cell_type": "markdown",
   "metadata": {},
   "source": [
    "## Recursion Contd."
   ]
  },
  {
   "cell_type": "code",
   "execution_count": 1,
   "metadata": {},
   "outputs": [],
   "source": [
    "# Recursive function to find the number of occurence of an element in a list\n",
    "def countOccurence(l: list, k: int) -> int:\n",
    "    if len(l) == 0: return 0\n",
    "    if l[0] == k: return 1 + countOccurence(l[1:], k)\n",
    "    return 0 + countOccurence(l[1:], k)"
   ]
  },
  {
   "cell_type": "code",
   "execution_count": 16,
   "metadata": {},
   "outputs": [
    {
     "data": {
      "text/plain": [
       "5"
      ]
     },
     "execution_count": 16,
     "metadata": {},
     "output_type": "execute_result"
    }
   ],
   "source": [
    "import numpy as np\n",
    "l = np.random.normal(10, 2, 20).astype(int).tolist()\n",
    "countOccurence(l, 9)"
   ]
  },
  {
   "cell_type": "code",
   "execution_count": 21,
   "metadata": {},
   "outputs": [],
   "source": [
    "# Exercise: write a recursive function that calculates exponentials\n",
    "# You can assume that exponential is always greater or equal to zero\n",
    "\n",
    "def power(base: int, exponential: int) -> int:\n",
    "    if exponential == 0:\n",
    "        return 1\n",
    "    else: return base * power(base, exponential - 1)\n",
    "    "
   ]
  },
  {
   "cell_type": "code",
   "execution_count": 26,
   "metadata": {},
   "outputs": [],
   "source": [
    "# Exercise: write a recursive function that checks if an element exists in the list\n",
    "\n",
    "def isIn(l: list, k: int) -> bool:\n",
    "    if len(l) == 0: return False\n",
    "    if l[0] == k: return True\n",
    "    return isIn(l[1:], k)"
   ]
  },
  {
   "cell_type": "markdown",
   "metadata": {},
   "source": [
    "## Dictionary"
   ]
  },
  {
   "cell_type": "code",
   "execution_count": 39,
   "metadata": {},
   "outputs": [
    {
     "name": "stdout",
     "output_type": "stream",
     "text": [
      "True\n",
      "{'a': 6, 'b': 3, 'd': 5}\n",
      "{'a': 6, 'b': 2, 'd': 5}\n",
      "{'a': 6, 'b': 2, 'd': 5, 'c': 0}\n",
      "CPU times: user 2 µs, sys: 0 ns, total: 2 µs\n",
      "Wall time: 4.77 µs\n",
      "CPU times: user 113 ms, sys: 8.38 ms, total: 121 ms\n",
      "Wall time: 121 ms\n"
     ]
    },
    {
     "data": {
      "text/plain": [
       "7632500"
      ]
     },
     "execution_count": 39,
     "metadata": {},
     "output_type": "execute_result"
    }
   ],
   "source": [
    "d = {}\n",
    "dd = dict()\n",
    "print(d == dd)\n",
    "\n",
    "# key & value\n",
    "\n",
    "# Dictionary characteristics\n",
    "# all keys are unique (cannot have duplicate keys)\n",
    "d = {'a':1, 'b':3, 'd':5, 'a': 6}\n",
    "print(d)\n",
    "d.update({'b':2})\n",
    "print(d)\n",
    "d.update({'c':0})\n",
    "print(d)\n",
    "\n",
    "# dictionary is unordered\n",
    "\n",
    "# iterate runtime = o(1)\n",
    "d = {}\n",
    "l = []\n",
    "for i in range(10000000):\n",
    "    d.update({i:i*100})\n",
    "    l.append(i)\n",
    "%time d[7632500]\n",
    "%time l.index(7632500)"
   ]
  },
  {
   "cell_type": "code",
   "execution_count": 44,
   "metadata": {},
   "outputs": [
    {
     "name": "stdout",
     "output_type": "stream",
     "text": [
      "dict_keys(['a', 'b', 'd'])\n",
      "dict_values([6, 3, 5])\n"
     ]
    }
   ],
   "source": [
    "d = {'a':1, 'b':3, 'd':5, 'a': 6}\n",
    "print(d.keys())\n",
    "print(d.values())"
   ]
  },
  {
   "cell_type": "code",
   "execution_count": 53,
   "metadata": {},
   "outputs": [
    {
     "name": "stdout",
     "output_type": "stream",
     "text": [
      "[11, 11, 9, 9, 5, 9, 7, 13, 12, 7, 10, 8, 8, 10, 6, 8, 8, 7, 12, 11]\n",
      "{11: 3, 9: 3, 5: 1, 7: 3, 13: 1, 12: 2, 10: 2, 8: 4, 6: 1}\n",
      "True\n"
     ]
    }
   ],
   "source": [
    "# frequency_dict\n",
    "def freqDict(l:list) -> dict:\n",
    "    d = {}\n",
    "    for i in l:\n",
    "        if i not in d:\n",
    "            d.update({i:0})\n",
    "        d[i] += 1\n",
    "    return d\n",
    "\n",
    "l = np.random.normal(10, 2, 20).astype(int).tolist()\n",
    "print(l)\n",
    "d = freqDict(l)\n",
    "print(d)\n",
    "print(sum(d.values()) == len(l))"
   ]
  },
  {
   "cell_type": "code",
   "execution_count": 3,
   "metadata": {},
   "outputs": [],
   "source": [
    "# Exercise: write a function that returns the sum of the values of the common keys in the two dictionaries\n",
    "# a: {1:2, 3:5, 0:7}, b: {3:2, 1:5, 6:2} --> return 14\n",
    "# Can you write this recursively?\n",
    "\n",
    "def commonKeySum(a: dict, b: dict) -> int:\n",
    "    if min(len(a), len(b)) == 0: return 0\n",
    "    k = list(a.keys())[0]\n",
    "    keySum = 0\n",
    "    if k in b:\n",
    "        keySum += a.pop(k)\n",
    "        keySum += b.pop(k)\n",
    "    else: a.pop(k)\n",
    "    \n",
    "    return keySum + commonKeySum(a, b)\n",
    "    "
   ]
  },
  {
   "cell_type": "code",
   "execution_count": 4,
   "metadata": {},
   "outputs": [],
   "source": [
    "def commonKeySumIter(a: dict, b:dict) -> int:\n",
    "    l = list(a.keys())\n",
    "    key_sum = 0\n",
    "    for i in l:\n",
    "        if i in b:\n",
    "            key_sum += a[i]\n",
    "            key_sum += b[i]\n",
    "            \n",
    "    return key_sum\n",
    "\n"
   ]
  },
  {
   "cell_type": "code",
   "execution_count": 6,
   "metadata": {},
   "outputs": [
    {
     "data": {
      "text/plain": [
       "14"
      ]
     },
     "execution_count": 6,
     "metadata": {},
     "output_type": "execute_result"
    }
   ],
   "source": [
    "a =  {1:2, 3:5, 0:7}\n",
    "b = {3:2, 1:5, 6:2}\n",
    "commonKeySumIter(a, b)"
   ]
  },
  {
   "cell_type": "markdown",
   "metadata": {},
   "source": [
    "## Data Visualization Basics"
   ]
  },
  {
   "cell_type": "code",
   "execution_count": 103,
   "metadata": {},
   "outputs": [],
   "source": [
    "import matplotlib.pyplot as plt\n",
    "import pandas as pd\n"
   ]
  },
  {
   "cell_type": "code",
   "execution_count": 104,
   "metadata": {},
   "outputs": [
    {
     "data": {
      "text/html": [
       "<div>\n",
       "<style scoped>\n",
       "    .dataframe tbody tr th:only-of-type {\n",
       "        vertical-align: middle;\n",
       "    }\n",
       "\n",
       "    .dataframe tbody tr th {\n",
       "        vertical-align: top;\n",
       "    }\n",
       "\n",
       "    .dataframe thead th {\n",
       "        text-align: right;\n",
       "    }\n",
       "</style>\n",
       "<table border=\"1\" class=\"dataframe\">\n",
       "  <thead>\n",
       "    <tr style=\"text-align: right;\">\n",
       "      <th></th>\n",
       "      <th>Date</th>\n",
       "      <th>Open</th>\n",
       "      <th>High</th>\n",
       "      <th>Low</th>\n",
       "      <th>Close</th>\n",
       "      <th>Adj Close</th>\n",
       "      <th>Volume</th>\n",
       "    </tr>\n",
       "  </thead>\n",
       "  <tbody>\n",
       "    <tr>\n",
       "      <th>0</th>\n",
       "      <td>2010-10-11</td>\n",
       "      <td>10.526428</td>\n",
       "      <td>10.615714</td>\n",
       "      <td>10.521428</td>\n",
       "      <td>10.548572</td>\n",
       "      <td>9.115436</td>\n",
       "      <td>427753200</td>\n",
       "    </tr>\n",
       "    <tr>\n",
       "      <th>1</th>\n",
       "      <td>2010-10-12</td>\n",
       "      <td>10.550357</td>\n",
       "      <td>10.696428</td>\n",
       "      <td>10.446072</td>\n",
       "      <td>10.662143</td>\n",
       "      <td>9.213575</td>\n",
       "      <td>558544000</td>\n",
       "    </tr>\n",
       "    <tr>\n",
       "      <th>2</th>\n",
       "      <td>2010-10-13</td>\n",
       "      <td>10.721429</td>\n",
       "      <td>10.784286</td>\n",
       "      <td>10.707143</td>\n",
       "      <td>10.719286</td>\n",
       "      <td>9.262955</td>\n",
       "      <td>630092400</td>\n",
       "    </tr>\n",
       "    <tr>\n",
       "      <th>3</th>\n",
       "      <td>2010-10-14</td>\n",
       "      <td>10.774643</td>\n",
       "      <td>10.802500</td>\n",
       "      <td>10.728572</td>\n",
       "      <td>10.796785</td>\n",
       "      <td>9.329926</td>\n",
       "      <td>435296400</td>\n",
       "    </tr>\n",
       "    <tr>\n",
       "      <th>4</th>\n",
       "      <td>2010-10-15</td>\n",
       "      <td>10.980000</td>\n",
       "      <td>11.250000</td>\n",
       "      <td>10.889643</td>\n",
       "      <td>11.240714</td>\n",
       "      <td>9.713540</td>\n",
       "      <td>922194000</td>\n",
       "    </tr>\n",
       "  </tbody>\n",
       "</table>\n",
       "</div>"
      ],
      "text/plain": [
       "         Date       Open       High        Low      Close  Adj Close  \\\n",
       "0  2010-10-11  10.526428  10.615714  10.521428  10.548572   9.115436   \n",
       "1  2010-10-12  10.550357  10.696428  10.446072  10.662143   9.213575   \n",
       "2  2010-10-13  10.721429  10.784286  10.707143  10.719286   9.262955   \n",
       "3  2010-10-14  10.774643  10.802500  10.728572  10.796785   9.329926   \n",
       "4  2010-10-15  10.980000  11.250000  10.889643  11.240714   9.713540   \n",
       "\n",
       "      Volume  \n",
       "0  427753200  \n",
       "1  558544000  \n",
       "2  630092400  \n",
       "3  435296400  \n",
       "4  922194000  "
      ]
     },
     "execution_count": 104,
     "metadata": {},
     "output_type": "execute_result"
    }
   ],
   "source": [
    "apple = pd.read_csv(\"aapl.csv\")\n",
    "apple.head()"
   ]
  },
  {
   "cell_type": "code",
   "execution_count": 105,
   "metadata": {},
   "outputs": [
    {
     "data": {
      "text/plain": [
       "[<matplotlib.lines.Line2D at 0x1470af7f0>]"
      ]
     },
     "execution_count": 105,
     "metadata": {},
     "output_type": "execute_result"
    },
    {
     "data": {
      "image/png": "[encoded data removed]",
      "text/plain": [
       "<Figure size 432x288 with 1 Axes>"
      ]
     },
     "metadata": {
      "needs_background": "light"
     },
     "output_type": "display_data"
    }
   ],
   "source": [
    "close = apple['Close']\n",
    "date = apple['Date']\n",
    "plt.plot(apple['Close'])"
   ]
  },
  {
   "cell_type": "code",
   "execution_count": 106,
   "metadata": {},
   "outputs": [
    {
     "data": {
      "text/plain": [
       "[<matplotlib.lines.Line2D at 0x1469d6b80>]"
      ]
     },
     "execution_count": 106,
     "metadata": {},
     "output_type": "execute_result"
    },
    {
     "data": {
      "image/png": "[encoded data removed]",
      "text/plain": [
       "<Figure size 432x288 with 1 Axes>"
      ]
     },
     "metadata": {
      "needs_background": "light"
     },
     "output_type": "display_data"
    }
   ],
   "source": [
    "plt.plot(apple['Date'], apple['Close'])"
   ]
  },
  {
   "cell_type": "code",
   "execution_count": 108,
   "metadata": {},
   "outputs": [],
   "source": [
    "type(apple['Date'].iloc[0])\n",
    "apple['Date'] = pd.to_datetime(apple['Date'])"
   ]
  },
  {
   "cell_type": "code",
   "execution_count": 118,
   "metadata": {},
   "outputs": [
    {
     "data": {
      "text/plain": [
       "Text(0, 0.5, 'Stock Price($)')"
      ]
     },
     "execution_count": 118,
     "metadata": {},
     "output_type": "execute_result"
    },
    {
     "data": {
      "image/png": "[encoded data removed]",
      "text/plain": [
       "<Figure size 1440x720 with 1 Axes>"
      ]
     },
     "metadata": {
      "needs_background": "light"
     },
     "output_type": "display_data"
    }
   ],
   "source": [
    "#51234\n",
    "plt.figure(figsize=(20,10))\n",
    "plt.plot(apple['Date'], apple['Close'])\n",
    "plt.title(\"Apple Stock Closing Price\")\n",
    "plt.xlabel(\"Years\")\n",
    "plt.ylabel(\"Stock Price($)\")"
   ]
  },
  {
   "cell_type": "code",
   "execution_count": 120,
   "metadata": {},
   "outputs": [],
   "source": [
    "%matplotlib widget"
   ]
  },
  {
   "cell_type": "code",
   "execution_count": 124,
   "metadata": {},
   "outputs": [
    {
     "data": {
      "application/vnd.jupyter.widget-view+json": {
       "model_id": "50268648d6be44478b01375cc60502ea",
       "version_major": 2,
       "version_minor": 0
      },
      "text/plain": [
       "Canvas(toolbar=Toolbar(toolitems=[('Home', 'Reset original view', 'home', 'home'), ('Back', 'Back to previous …"
      ]
     },
     "metadata": {},
     "output_type": "display_data"
    },
    {
     "data": {
      "text/plain": [
       "Text(0, 0.5, 'Stock Price($)')"
      ]
     },
     "execution_count": 124,
     "metadata": {},
     "output_type": "execute_result"
    }
   ],
   "source": [
    "plt.figure(figsize=(10,5))\n",
    "plt.plot(apple['Date'], apple['Close'])\n",
    "plt.title(\"Apple Stock Closing Price\")\n",
    "plt.xlabel(\"Years\")\n",
    "plt.ylabel(\"Stock Price($)\")"
   ]
  },
  {
   "cell_type": "code",
   "execution_count": 126,
   "metadata": {},
   "outputs": [],
   "source": [
    "google = pd.read_csv('GOOG.csv')\n",
    "google['Date'] = pd.to_datetime(google['Date'])"
   ]
  },
  {
   "cell_type": "code",
   "execution_count": 141,
   "metadata": {},
   "outputs": [
    {
     "data": {
      "application/vnd.jupyter.widget-view+json": {
       "model_id": "02e36173095c4780a0b974bd4f65e166",
       "version_major": 2,
       "version_minor": 0
      },
      "text/plain": [
       "Canvas(toolbar=Toolbar(toolitems=[('Home', 'Reset original view', 'home', 'home'), ('Back', 'Back to previous …"
      ]
     },
     "metadata": {},
     "output_type": "display_data"
    },
    {
     "data": {
      "text/plain": [
       "<matplotlib.legend.Legend at 0x149101580>"
      ]
     },
     "execution_count": 141,
     "metadata": {},
     "output_type": "execute_result"
    }
   ],
   "source": [
    "plt.figure(figsize=(10,5))\n",
    "plt.plot(apple['Date'], apple['Close'], label = \"Apple\")\n",
    "plt.plot(google['Date'], google['Close'], label = \"Google\")\n",
    "plt.title(\"Apple vs Google Closing Price\")\n",
    "plt.xlabel(\"Years\")\n",
    "plt.ylabel(\"Stock Price($)\")\n",
    "plt.legend()"
   ]
  },
  {
   "cell_type": "code",
   "execution_count": 136,
   "metadata": {},
   "outputs": [],
   "source": [
    "a_close = apple['Close'].to_list()\n",
    "g_close = google['Close'].to_list()\n",
    "a_start = a_close[0]\n",
    "g_start = g_close[0]"
   ]
  },
  {
   "cell_type": "code",
   "execution_count": 137,
   "metadata": {},
   "outputs": [],
   "source": [
    "a_close = [(i - a_start)/a_start * 100 for i in a_close]\n",
    "g_close = [(i - g_start)/g_start * 100 for i in g_close]"
   ]
  },
  {
   "cell_type": "code",
   "execution_count": 138,
   "metadata": {},
   "outputs": [],
   "source": [
    "apple['Close Scaled'] = a_close\n",
    "google['Close Scaled'] = g_close"
   ]
  },
  {
   "cell_type": "code",
   "execution_count": 144,
   "metadata": {},
   "outputs": [
    {
     "data": {
      "application/vnd.jupyter.widget-view+json": {
       "model_id": "04fb87890f5b4364b2cc8083c4cb9413",
       "version_major": 2,
       "version_minor": 0
      },
      "text/plain": [
       "Canvas(toolbar=Toolbar(toolitems=[('Home', 'Reset original view', 'home', 'home'), ('Back', 'Back to previous …"
      ]
     },
     "metadata": {},
     "output_type": "display_data"
    },
    {
     "data": {
      "text/plain": [
       "<matplotlib.legend.Legend at 0x1490d9850>"
      ]
     },
     "execution_count": 144,
     "metadata": {},
     "output_type": "execute_result"
    }
   ],
   "source": [
    "plt.figure(figsize=(10,5))\n",
    "plt.plot(apple['Date'], apple['Close Scaled'], label = \"Apple\")\n",
    "plt.plot(google['Date'], google['Close Scaled'], label = \"Google\")\n",
    "plt.title(\"Apple vs Google Chage in Closing Price\")\n",
    "plt.xlabel(\"Years\")\n",
    "plt.ylabel(\"Stock Price Change in Percentage(%)\")\n",
    "plt.legend()"
   ]
  },
  {
   "cell_type": "code",
   "execution_count": null,
   "metadata": {},
   "outputs": [],
   "source": []
  }
 ],
 "metadata": {
  "kernelspec": {
   "display_name": "Python 3",
   "language": "python",
   "name": "python3"
  },
  "language_info": {
   "codemirror_mode": {
    "name": "ipython",
    "version": 3
   },
   "file_extension": ".py",
   "mimetype": "text/x-python",
   "name": "python",
   "nbconvert_exporter": "python",
   "pygments_lexer": "ipython3",
   "version": "3.8.6"
  }
 },
 "nbformat": 4,
 "nbformat_minor": 4
}
