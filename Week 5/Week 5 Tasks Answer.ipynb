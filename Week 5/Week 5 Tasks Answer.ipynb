{
 "cells": [
  {
   "cell_type": "markdown",
   "metadata": {},
   "source": [
    "## Dictionary Practice"
   ]
  },
  {
   "cell_type": "code",
   "execution_count": 1,
   "metadata": {},
   "outputs": [
    {
     "output_type": "stream",
     "name": "stdout",
     "text": [
      "True\nTrue\n"
     ]
    }
   ],
   "source": [
    "# Write a function 'mergeDict' that takes two dictionaries 'a' and 'b', \n",
    "# and returns the merged dictionary of the two dictionaries.\n",
    "# If the two input dicitonaries contain common keys, the value should be that of 'a'\n",
    "# TODO: Make the cell print True for all cases\n",
    "\n",
    "# Your code goes below here\n",
    "def mergeDict(a: dict, b: dict) -> dict:\n",
    "    ret = {}\n",
    "    ret.update(b)\n",
    "    ret.update(a)\n",
    "    return ret\n",
    "\n",
    "\n",
    "\n",
    "\n",
    "\n",
    "\n",
    "\n",
    "# Do not modify below!\n",
    "import random\n",
    "a, b, ret = {}, {}, {}\n",
    "r = lambda i: random.randint(0, i)\n",
    "r1, r5 = r(10), r(50)\n",
    "a = {r1 : r5 for _ in range(10)}\n",
    "b = {r1 : r5 for _ in range(10)}\n",
    "test = {**b, **a}\n",
    "ret = mergeDict(a, b)\n",
    "sl = lambda d: sorted(list(d))\n",
    "slk, slv = lambda v: sl(v.keys()), lambda v: sl(v.values())\n",
    "print(slk(test) == slk(ret))\n",
    "print(slv(test) == slv(ret))"
   ]
  },
  {
   "cell_type": "code",
   "execution_count": 2,
   "metadata": {},
   "outputs": [
    {
     "output_type": "stream",
     "name": "stdout",
     "text": [
      "True\nTrue\n"
     ]
    }
   ],
   "source": [
    "# Write a function 'mergeDictList' that takes a list of dictionaries 'l'\n",
    "# and returns a merged dictionary of the elements of 'l'\n",
    "# If a key appears more than once in 'l', the value should be based on its latest appearance in the list\n",
    "# i.e. if key '1' appears on index 0 and 5 of 'l', \n",
    "# the merged dictionary's key '1' should possess the value of that of index 5\n",
    "# hint: Try using the 'mergeDict' we have written above!\n",
    "# TODO: Make the cell print True for all cases\n",
    "\n",
    "# Your code goes below here\n",
    "def mergeDictList(l: list) -> dict:\n",
    "    ret = {}\n",
    "    for d in l: ret = mergeDict(d, ret)\n",
    "    return ret\n",
    "\n",
    "\n",
    "\n",
    "\n",
    "# Do not modify below!\n",
    "l = [{r1 : r5} for _ in range(20)]\n",
    "ret = mergeDictList(l)\n",
    "test = {k: v for d in l for k, v in d.items()}\n",
    "print(slk(test) == slk(ret))\n",
    "print(slv(test) == slv(ret))"
   ]
  },
  {
   "cell_type": "code",
   "execution_count": 3,
   "metadata": {},
   "outputs": [
    {
     "output_type": "stream",
     "name": "stdout",
     "text": [
      "True\nTrue\n"
     ]
    }
   ],
   "source": [
    "# Write a function 'createDict' that takes two lists of same size, 'k' and 'v',\n",
    "# and returns a dictionary in which elements of 'k' are keys and 'v' are values\n",
    "# For error handling, if the lengths of 'k' and 'v' are not equal, return an empty dictionary\n",
    "# TODO: Make the cell print True for all cases\n",
    "\n",
    "# Your code goes below here\n",
    "def createDict(k: list, v:list) -> dict:\n",
    "    if len(k) != len(v): return {}\n",
    "    ret = {}\n",
    "    for i in range(len(k)):\n",
    "        ret.update({k[i]:v[i]})\n",
    "    return ret\n",
    "\n",
    "\n",
    "\n",
    "\n",
    "# Do not modify below!\n",
    "k, v = [r1 for _ in range(20)], [r5 for _ in range(20)]\n",
    "ret = createDict(k, v)\n",
    "test = dict(zip(k, v))\n",
    "print(slk(test) == slk(ret))\n",
    "print(slv(test) == slv(ret))"
   ]
  },
  {
   "cell_type": "code",
   "execution_count": 4,
   "metadata": {},
   "outputs": [
    {
     "output_type": "stream",
     "name": "stdout",
     "text": [
      "True\nTrue\nTrue\n"
     ]
    }
   ],
   "source": [
    "# Write a function 'updateKey' that takes a dictionary 'd' and two ints 'orig_k' and 'new_k',\n",
    "# replace the 'orig_k' key in 'd' to 'new_k', keeping the value same and return the updated 'd'\n",
    "# For error handling, if 'orig_k' does not exist in 'd' or 'new_k' already exists in 'd', simply return 'd'\n",
    "# TODO: Make the cell print True for all cases\n",
    "\n",
    "# Your code goes below here\n",
    "def updateKey(d: dict, orig_k: int, new_k: int) -> dict:\n",
    "    if orig_k not in d or new_k in d: return d\n",
    "    val = d.pop(orig_k)\n",
    "    d.update({new_k: val})\n",
    "    return d\n",
    "\n",
    "\n",
    "\n",
    "\n",
    "# Do not modify below!\n",
    "d = {r1 : r5 for _ in range(10)}\n",
    "orig_k = slk(d)[0]\n",
    "print(d == updateKey(d, 11, 11))\n",
    "print(d == updateKey(d, orig_k, orig_k))\n",
    "print(d[orig_k] == updateKey(d, orig_k, 11)[11])"
   ]
  }
 ],
 "metadata": {
  "kernelspec": {
   "display_name": "Python 3",
   "language": "python",
   "name": "python3"
  },
  "language_info": {
   "codemirror_mode": {
    "name": "ipython",
    "version": 3
   },
   "file_extension": ".py",
   "mimetype": "text/x-python",
   "name": "python",
   "nbconvert_exporter": "python",
   "pygments_lexer": "ipython3",
   "version": "3.8.6-final"
  }
 },
 "nbformat": 4,
 "nbformat_minor": 2
}