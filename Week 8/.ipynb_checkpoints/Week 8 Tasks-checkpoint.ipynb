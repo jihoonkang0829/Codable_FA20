{
 "cells": [
  {
   "cell_type": "markdown",
   "metadata": {},
   "source": [
    "During this week's meeting, we have created a heatmap based on the stock price data.\n",
    "\n",
    "Let's recall how we have achieved this.\n",
    "\n",
    "First, we have created a dictionary, grouping the stock price data based on its date."
   ]
  },
  {
   "cell_type": "code",
   "execution_count": null,
   "metadata": {},
   "outputs": [],
   "source": [
    "import matplotlib.pyplot as plt\n",
    "import pandas as pd\n",
    "import numpy as np\n",
    "import seaborn as sns\n",
    "\n",
    "\n",
    "# Import dataset\n",
    "apple = pd.read_csv(\"aapl.csv\")\n",
    "apple['Date'] = pd.to_datetime(apple['Date'])\n",
    "\n",
    "close = apple['Close'].to_list()\n",
    "date = apple['Date'].dt.strftime('%m-%d').to_list()\n",
    "\n",
    "date_dict = {}\n",
    "for i in range(len(date)):\n",
    "    if date[i] not in date_dict:\n",
    "        date_dict.update({date[i]:[]})\n",
    "    date_dict[date[i]].append(close[i])\n",
    "        \n",
    "date_dict"
   ]
  },
  {
   "cell_type": "markdown",
   "metadata": {},
   "source": [
    "Then, based on the dictionary created, we have converted the value of list to the average of the list."
   ]
  },
  {
   "cell_type": "code",
   "execution_count": null,
   "metadata": {},
   "outputs": [],
   "source": [
    "date_dict = {k : sum(v)/len(v) for k, v in date_dict.items()}\n",
    "date_dict"
   ]
  },
  {
   "cell_type": "markdown",
   "metadata": {},
   "source": [
    "We have created a nested list of size 31 * 12, to store the average data that we have derived above.\n",
    "\n",
    "Note that we are initializing the list with `np.nan`, which stands for 'not a number', instead of 0."
   ]
  },
  {
   "cell_type": "code",
   "execution_count": null,
   "metadata": {},
   "outputs": [],
   "source": [
    "date_list = [[np.nan for _ in range(31)] for _ in range(12)]\n",
    "date_list"
   ]
  },
  {
   "cell_type": "markdown",
   "metadata": {},
   "source": [
    "We have also written a function to get month and day from a formatted string."
   ]
  },
  {
   "cell_type": "code",
   "execution_count": null,
   "metadata": {},
   "outputs": [],
   "source": [
    "def dateStrip(str_date: str) -> (int, int):\n",
    "    str_date = str_date.split('-', 1)\n",
    "    str_date = [int(tt) for tt in str_date]\n",
    "    return str_date[0], str_date[1]"
   ]
  },
  {
   "cell_type": "markdown",
   "metadata": {},
   "source": [
    "Using the function written above, we can use the `date_dict` created above to fill the nested list."
   ]
  },
  {
   "cell_type": "code",
   "execution_count": null,
   "metadata": {},
   "outputs": [],
   "source": [
    "for k, v in date_dict.items():\n",
    "    month, day = dateStrip(k)\n",
    "    date_list[month - 1][day - 1] = v\n",
    "\n",
    "date_list"
   ]
  },
  {
   "cell_type": "markdown",
   "metadata": {},
   "source": [
    "Using this nested list, we can draw the heatmap. Observe the output below."
   ]
  },
  {
   "cell_type": "code",
   "execution_count": null,
   "metadata": {},
   "outputs": [],
   "source": [
    "fig, ax = plt.subplots()\n",
    "fig.set_size_inches(20, 10)\n",
    "sns.heatmap(date_list, xticklabels = [i if i % 2 == 1 else None for i in range(1, 32)], yticklabels = [i for i in range(1, 13)], annot = True)\n",
    "ax.set(xlabel = 'Days', ylabel = 'Months')\n",
    "ax.set_title('Apple 2019 Stock Close Price by Date')"
   ]
  },
  {
   "cell_type": "markdown",
   "metadata": {},
   "source": [
    "### Task 1\n",
    "\n",
    "Based on the code seen above, write a function that draws a heatmap for a given year.\n",
    "\n",
    "To obtain a year, month or day from the Pandas Timestamp object, please read [this documentation](https://pandas.pydata.org/pandas-docs/stable/reference/api/pandas.Timestamp.html)."
   ]
  },
  {
   "cell_type": "code",
   "execution_count": null,
   "metadata": {},
   "outputs": [],
   "source": [
    "# For function parameters and return value, refer to the description seen below.\n",
    "# Note that since you are drawing a heatmap of one year data, no averaging of data is needed\n",
    "# Thus, creation of a dictionary is not required\n",
    "# Initialize the nested list with np.nan, as seen above.\n",
    "\n",
    "# TODO: Complete the year_heatmap function\n",
    "\n",
    "'''\n",
    "params:\n",
    "price_data: pd.Series\n",
    "- Series containing stock price data\n",
    "date_data: pd.Series\n",
    "- Series containing date data for corresponsing rows of price_data\n",
    "year: int\n",
    "- Year in which the heatmap should be drawn\n",
    "\n",
    "returns: None\n",
    "'''\n",
    "def year_heatmap(price_data: pd.Series, date_data: pd.Series, year: int):\n",
    "\n",
    "    \n",
    "    \n",
    "    \n",
    "    \n",
    "    \n",
    "    \n",
    "    \n",
    "    \n",
    "    "
   ]
  },
  {
   "cell_type": "code",
   "execution_count": null,
   "metadata": {},
   "outputs": [],
   "source": [
    "# Run this cell, and observe if the function behaves as expected.\n",
    "# Try changing the year and price_data!\n",
    "year_heatmap(apple['Close'], apple['Date'], 2017)"
   ]
  },
  {
   "cell_type": "markdown",
   "metadata": {},
   "source": [
    "### Task 2\n",
    "\n",
    "Draw a violion plots of Apple Close data, based on months"
   ]
  },
  {
   "cell_type": "code",
   "execution_count": null,
   "metadata": {},
   "outputs": [],
   "source": [
    "# TODO: Create 12 violion plots in one plot, grouped by months\n",
    "# Hint: Create a new column in apple, which contains the data of month for each rows\n",
    "\n",
    "# Your code goes below here\n"
   ]
  },
  {
   "cell_type": "code",
   "execution_count": null,
   "metadata": {},
   "outputs": [],
   "source": []
  }
 ],
 "metadata": {
  "kernelspec": {
   "display_name": "Python 3",
   "language": "python",
   "name": "python3"
  },
  "language_info": {
   "codemirror_mode": {
    "name": "ipython",
    "version": 3
   },
   "file_extension": ".py",
   "mimetype": "text/x-python",
   "name": "python",
   "nbconvert_exporter": "python",
   "pygments_lexer": "ipython3",
   "version": "3.9.0"
  }
 },
 "nbformat": 4,
 "nbformat_minor": 4
}
