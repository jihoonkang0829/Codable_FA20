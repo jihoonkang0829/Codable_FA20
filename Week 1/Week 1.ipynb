{
 "cells": [
  {
   "cell_type": "markdown",
   "metadata": {},
   "source": [
    "# Python Intro - Week 1"
   ]
  },
  {
   "cell_type": "markdown",
   "metadata": {},
   "source": [
    "## Print statement"
   ]
  },
  {
   "cell_type": "code",
   "execution_count": 1,
   "metadata": {},
   "outputs": [
    {
     "name": "stdout",
     "output_type": "stream",
     "text": [
      "Hello World\n"
     ]
    }
   ],
   "source": [
    "print(\"Hello World\")"
   ]
  },
  {
   "cell_type": "markdown",
   "metadata": {},
   "source": [
    "## Variable types"
   ]
  },
  {
   "cell_type": "code",
   "execution_count": 7,
   "metadata": {},
   "outputs": [
    {
     "name": "stdout",
     "output_type": "stream",
     "text": [
      "2\n",
      "3\n",
      "2\n",
      "2 3 2\n"
     ]
    }
   ],
   "source": [
    "# Variable Initialization\n",
    "a = 2\n",
    "b = 3\n",
    "aa = a\n",
    "print(a)\n",
    "print(b)\n",
    "print(aa)\n",
    "print(a, b, aa)"
   ]
  },
  {
   "cell_type": "code",
   "execution_count": 9,
   "metadata": {},
   "outputs": [
    {
     "name": "stdout",
     "output_type": "stream",
     "text": [
      "2\n",
      "3\n",
      "3\n",
      "2\n"
     ]
    }
   ],
   "source": [
    "print(a)\n",
    "print(b)\n",
    "a = 3\n",
    "b = 2\n",
    "print(a)\n",
    "print(b)"
   ]
  },
  {
   "cell_type": "code",
   "execution_count": 13,
   "metadata": {},
   "outputs": [
    {
     "name": "stdout",
     "output_type": "stream",
     "text": [
      "3 2\n",
      "2 3\n",
      "3 2\n"
     ]
    }
   ],
   "source": [
    "# Exercise: Swapping values\n",
    "# TODO: a == 3, b == 2\n",
    "# objective: a == 2, b == 3\n",
    "a = 3\n",
    "b = 2\n",
    "print(a, b)\n",
    "# without using a = 2, b = 3\n",
    "temp = a\n",
    "a = b\n",
    "b = temp\n",
    "print(a, b)\n",
    "a, b = b, a\n",
    "print(a, b)"
   ]
  },
  {
   "cell_type": "code",
   "execution_count": 23,
   "metadata": {},
   "outputs": [
    {
     "name": "stdout",
     "output_type": "stream",
     "text": [
      "<class 'int'>\n",
      "<class 'float'>\n",
      "<class 'bool'>\n",
      "<class 'complex'>\n",
      "<class 'str'>\n"
     ]
    }
   ],
   "source": [
    "# Variable types\n",
    "# TODO: print basic data types in Python\n",
    "print(type(a))\n",
    "b = 3.14\n",
    "print(type(b))\n",
    "c = True\n",
    "print(type(c))\n",
    "d = 2 + 1j\n",
    "print(type(d))\n",
    "e = \"Hello World\"\n",
    "print(type(e))"
   ]
  },
  {
   "cell_type": "code",
   "execution_count": 29,
   "metadata": {},
   "outputs": [
    {
     "data": {
      "text/plain": [
       "2"
      ]
     },
     "execution_count": 29,
     "metadata": {},
     "output_type": "execute_result"
    }
   ],
   "source": [
    "# binary, decimal, and hexadecimal\n",
    "a = 0b10\n",
    "a"
   ]
  },
  {
   "cell_type": "code",
   "execution_count": 33,
   "metadata": {},
   "outputs": [
    {
     "name": "stdout",
     "output_type": "stream",
     "text": [
      "I am 23 years old. My favorite pi is 3.14\n",
      "I am 23 years old. My favorite pi is 3.14\n"
     ]
    }
   ],
   "source": [
    "# Exercise: Printing\n",
    "# \"I am __ years old. My favorite pi is 3.14\"\n",
    "age = 23\n",
    "pi = 3.14\n",
    "print(\"I am\", age, \"years old. My favorite pi is\", pi)\n",
    "print(\"I am {} years old. My favorite pi is {}\".format(age, pi))"
   ]
  },
  {
   "cell_type": "code",
   "execution_count": 43,
   "metadata": {},
   "outputs": [
    {
     "name": "stdout",
     "output_type": "stream",
     "text": [
      "True\n"
     ]
    }
   ],
   "source": [
    "# Basic boolean operations(and, or, not, ==, !=)\n",
    "c = True\n",
    "d = False\n",
    "e = False\n",
    "\n",
    "# 2 + 3 * 4\n",
    "print(c or d and e)"
   ]
  },
  {
   "cell_type": "code",
   "execution_count": 48,
   "metadata": {},
   "outputs": [
    {
     "name": "stdout",
     "output_type": "stream",
     "text": [
      "\"Hello\" World\n"
     ]
    }
   ],
   "source": [
    "# Escape quote\n",
    "e = \"\\\"Hello\\\" World\"\n",
    "print(e)\n"
   ]
  },
  {
   "cell_type": "markdown",
   "metadata": {},
   "source": [
    "## Basic operations"
   ]
  },
  {
   "cell_type": "code",
   "execution_count": 62,
   "metadata": {},
   "outputs": [
    {
     "data": {
      "text/plain": [
       "True"
      ]
     },
     "execution_count": 62,
     "metadata": {},
     "output_type": "execute_result"
    }
   ],
   "source": [
    "# basic operators: +, -, *, /, //, +=, **, %\n",
    "a, b = 17, 5\n",
    "\n",
    "div = a // b\n",
    "remainder = a % b\n",
    "a == (div * b + remainder)"
   ]
  },
  {
   "cell_type": "code",
   "execution_count": null,
   "metadata": {},
   "outputs": [],
   "source": []
  }
 ],
 "metadata": {
  "kernelspec": {
   "display_name": "Python 3",
   "language": "python",
   "name": "python3"
  },
  "language_info": {
   "codemirror_mode": {
    "name": "ipython",
    "version": 3
   },
   "file_extension": ".py",
   "mimetype": "text/x-python",
   "name": "python",
   "nbconvert_exporter": "python",
   "pygments_lexer": "ipython3",
   "version": "3.8.5"
  }
 },
 "nbformat": 4,
 "nbformat_minor": 4
}
