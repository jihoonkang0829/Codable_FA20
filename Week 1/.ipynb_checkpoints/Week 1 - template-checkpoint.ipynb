{
 "cells": [
  {
   "cell_type": "markdown",
   "metadata": {},
   "source": [
    "# Python Intro - Week 1"
   ]
  },
  {
   "cell_type": "markdown",
   "metadata": {},
   "source": [
    "## Print statement"
   ]
  },
  {
   "cell_type": "code",
   "execution_count": 14,
   "metadata": {},
   "outputs": [
    {
     "name": "stdout",
     "output_type": "stream",
     "text": [
      "Hello World!\n"
     ]
    }
   ],
   "source": [
    "print(\"Hello World!\")"
   ]
  },
  {
   "cell_type": "markdown",
   "metadata": {},
   "source": [
    "## Variables types"
   ]
  },
  {
   "cell_type": "code",
   "execution_count": 71,
   "metadata": {},
   "outputs": [
    {
     "name": "stdout",
     "output_type": "stream",
     "text": [
      "2 3\n",
      "2\n",
      "3 2\n"
     ]
    }
   ],
   "source": [
    "# Variable Initialization\n",
    "a = 2\n",
    "b = 3\n",
    "aa = a\n",
    "print(a, b)\n",
    "print(aa)\n",
    "print(a, b)"
   ]
  },
  {
   "cell_type": "code",
   "execution_count": 78,
   "metadata": {},
   "outputs": [
    {
     "name": "stdout",
     "output_type": "stream",
     "text": [
      "3 2\n"
     ]
    }
   ],
   "source": [
    "# overwriting\n",
    "a = 3\n",
    "b = 2\n",
    "print(a, b)"
   ]
  },
  {
   "cell_type": "code",
   "execution_count": 114,
   "metadata": {},
   "outputs": [
    {
     "name": "stdout",
     "output_type": "stream",
     "text": [
      "2 3\n",
      "3 2\n",
      "2 3\n"
     ]
    }
   ],
   "source": [
    "# Exercise: Swapping values\n",
    "# a == 3, b == 2\n",
    "# objective: a == 2, b == 3\n",
    "# i.\n",
    "a, b = 2, 3\n",
    "print(a, b)\n",
    "temp = a\n",
    "a = b\n",
    "b = temp\n",
    "print(a, b)\n",
    "# ii.\n",
    "a, b = b, a\n",
    "print(a, b)"
   ]
  },
  {
   "cell_type": "code",
   "execution_count": 61,
   "metadata": {},
   "outputs": [
    {
     "name": "stdout",
     "output_type": "stream",
     "text": [
      "<class 'int'>\n",
      "<class 'float'>\n",
      "<class 'bool'>\n",
      "<class 'complex'>\n",
      "<class 'str'>\n"
     ]
    }
   ],
   "source": [
    "# Variable Types\n",
    "# TODO: print basic data types in Python\n",
    "# Below are the basic data types in Python!\n",
    "print(type(a))\n",
    "b = 3.14\n",
    "print(type(b))\n",
    "c = True\n",
    "print(type(c))\n",
    "d = 2+1j\n",
    "print(type(d))\n",
    "e = 'Hello World'\n",
    "print(type(e))"
   ]
  },
  {
   "cell_type": "code",
   "execution_count": null,
   "metadata": {},
   "outputs": [],
   "source": [
    "# binary, decimal and hexadecimal\n"
   ]
  },
  {
   "cell_type": "code",
   "execution_count": 126,
   "metadata": {},
   "outputs": [
    {
     "name": "stdout",
     "output_type": "stream",
     "text": [
      "I am 23 years old. My favorite pi is 3.14\n",
      "I am 23 years old. My favorite pi is 3.14\n"
     ]
    }
   ],
   "source": [
    "# Exercise: printing\n",
    "# \"I am __ years old. My favorite pi is 3.14\"\n",
    "age = 23\n",
    "pi = 3.14\n",
    "print(\"I am\", age, \"years old. My favorite pi is\", pi)\n",
    "print(\"I am {} years old. My favorite pi is {}\".format(age, pi))"
   ]
  },
  {
   "cell_type": "code",
   "execution_count": 138,
   "metadata": {},
   "outputs": [
    {
     "name": "stdout",
     "output_type": "stream",
     "text": [
      "True\n",
      "False\n"
     ]
    }
   ],
   "source": [
    "# Basic boolean operations (and, or, not, ==, !=)\n",
    "c = True\n",
    "f = False\n",
    "g = False\n",
    "# print(id(c))\n",
    "# print(id(f))\n",
    "print(c or f and g)\n",
    "print((c or f) and g)"
   ]
  },
  {
   "cell_type": "code",
   "execution_count": 50,
   "metadata": {},
   "outputs": [
    {
     "name": "stdout",
     "output_type": "stream",
     "text": [
      "\"Hello\" World\n"
     ]
    }
   ],
   "source": [
    "# Escape quotes\n",
    "e = \"\\\"Hello\\\" World\"\n",
    "print(e)"
   ]
  },
  {
   "cell_type": "markdown",
   "metadata": {},
   "source": [
    "## Basic Operations"
   ]
  },
  {
   "cell_type": "code",
   "execution_count": 163,
   "metadata": {},
   "outputs": [
    {
     "data": {
      "text/plain": [
       "True"
      ]
     },
     "execution_count": 163,
     "metadata": {},
     "output_type": "execute_result"
    }
   ],
   "source": [
    "# basic operators: +, -, *, /, //, +=, **, %\n",
    "a, b = 10, 3\n",
    "c = a * b\n",
    "c += 2 # c = c + 2\n",
    "c = c + 2\n",
    "\n",
    "div = a // b\n",
    "remainder = a % b\n",
    "a == (div * b + remainder)"
   ]
  },
  {
   "cell_type": "markdown",
   "metadata": {},
   "source": [
    "## If/else statement"
   ]
  },
  {
   "cell_type": "code",
   "execution_count": 164,
   "metadata": {},
   "outputs": [
    {
     "name": "stdout",
     "output_type": "stream",
     "text": [
      "a is larger than 0\n"
     ]
    }
   ],
   "source": [
    "# >, <, >=, <= operator\n",
    "a = 2\n",
    "b = 3\n",
    "if a > b: print(\"a is larger than b\")\n",
    "elif a > 0: print(\"a is larger than 0\") # else if\n",
    "elif a % 2 == 0: print(\"a is an even number\")\n",
    "else: print(\"a is a negative number\")"
   ]
  },
  {
   "cell_type": "code",
   "execution_count": 170,
   "metadata": {},
   "outputs": [
    {
     "name": "stdout",
     "output_type": "stream",
     "text": [
      "208.42984431218096\n"
     ]
    }
   ],
   "source": [
    "# Exercise: If/else statement\n",
    "# TODO: Write an if/else statement that \n",
    "# prints the value of 'a' when the remainder divided by 3 is 1,\n",
    "# prints the square of 'a' when the remainder divided by 3 is 2,\n",
    "# prints the square root of 'a' when the remainder divided by 3 is 0\n",
    "\n",
    "a = 43443\n",
    "if a % 3 == 1: print(a)\n",
    "elif a % 3 == 2: print(a ** 2)\n",
    "else: print(a ** 0.5)"
   ]
  },
  {
   "cell_type": "code",
   "execution_count": null,
   "metadata": {},
   "outputs": [],
   "source": []
  }
 ],
 "metadata": {
  "kernelspec": {
   "display_name": "Python 3",
   "language": "python",
   "name": "python3"
  },
  "language_info": {
   "codemirror_mode": {
    "name": "ipython",
    "version": 3
   },
   "file_extension": ".py",
   "mimetype": "text/x-python",
   "name": "python",
   "nbconvert_exporter": "python",
   "pygments_lexer": "ipython3",
   "version": "3.8.6"
  }
 },
 "nbformat": 4,
 "nbformat_minor": 4
}
