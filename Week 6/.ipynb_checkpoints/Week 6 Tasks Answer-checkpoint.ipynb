{
 "cells": [
  {
   "cell_type": "code",
   "execution_count": 1,
   "metadata": {},
   "outputs": [
    {
     "data": {
      "text/html": [
       "<div>\n",
       "<style scoped>\n",
       "    .dataframe tbody tr th:only-of-type {\n",
       "        vertical-align: middle;\n",
       "    }\n",
       "\n",
       "    .dataframe tbody tr th {\n",
       "        vertical-align: top;\n",
       "    }\n",
       "\n",
       "    .dataframe thead th {\n",
       "        text-align: right;\n",
       "    }\n",
       "</style>\n",
       "<table border=\"1\" class=\"dataframe\">\n",
       "  <thead>\n",
       "    <tr style=\"text-align: right;\">\n",
       "      <th></th>\n",
       "      <th>Date</th>\n",
       "      <th>Open</th>\n",
       "      <th>High</th>\n",
       "      <th>Low</th>\n",
       "      <th>Close</th>\n",
       "      <th>Adj Close</th>\n",
       "      <th>Volume</th>\n",
       "    </tr>\n",
       "  </thead>\n",
       "  <tbody>\n",
       "    <tr>\n",
       "      <th>0</th>\n",
       "      <td>2010-10-11</td>\n",
       "      <td>10.526428</td>\n",
       "      <td>10.615714</td>\n",
       "      <td>10.521428</td>\n",
       "      <td>10.548572</td>\n",
       "      <td>9.115436</td>\n",
       "      <td>427753200</td>\n",
       "    </tr>\n",
       "    <tr>\n",
       "      <th>1</th>\n",
       "      <td>2010-10-12</td>\n",
       "      <td>10.550357</td>\n",
       "      <td>10.696428</td>\n",
       "      <td>10.446072</td>\n",
       "      <td>10.662143</td>\n",
       "      <td>9.213575</td>\n",
       "      <td>558544000</td>\n",
       "    </tr>\n",
       "    <tr>\n",
       "      <th>2</th>\n",
       "      <td>2010-10-13</td>\n",
       "      <td>10.721429</td>\n",
       "      <td>10.784286</td>\n",
       "      <td>10.707143</td>\n",
       "      <td>10.719286</td>\n",
       "      <td>9.262955</td>\n",
       "      <td>630092400</td>\n",
       "    </tr>\n",
       "    <tr>\n",
       "      <th>3</th>\n",
       "      <td>2010-10-14</td>\n",
       "      <td>10.774643</td>\n",
       "      <td>10.802500</td>\n",
       "      <td>10.728572</td>\n",
       "      <td>10.796785</td>\n",
       "      <td>9.329926</td>\n",
       "      <td>435296400</td>\n",
       "    </tr>\n",
       "    <tr>\n",
       "      <th>4</th>\n",
       "      <td>2010-10-15</td>\n",
       "      <td>10.980000</td>\n",
       "      <td>11.250000</td>\n",
       "      <td>10.889643</td>\n",
       "      <td>11.240714</td>\n",
       "      <td>9.713540</td>\n",
       "      <td>922194000</td>\n",
       "    </tr>\n",
       "    <tr>\n",
       "      <th>...</th>\n",
       "      <td>...</td>\n",
       "      <td>...</td>\n",
       "      <td>...</td>\n",
       "      <td>...</td>\n",
       "      <td>...</td>\n",
       "      <td>...</td>\n",
       "      <td>...</td>\n",
       "    </tr>\n",
       "    <tr>\n",
       "      <th>2513</th>\n",
       "      <td>2020-10-05</td>\n",
       "      <td>113.910004</td>\n",
       "      <td>116.650002</td>\n",
       "      <td>113.550003</td>\n",
       "      <td>116.500000</td>\n",
       "      <td>116.500000</td>\n",
       "      <td>106243800</td>\n",
       "    </tr>\n",
       "    <tr>\n",
       "      <th>2514</th>\n",
       "      <td>2020-10-06</td>\n",
       "      <td>115.699997</td>\n",
       "      <td>116.120003</td>\n",
       "      <td>112.250000</td>\n",
       "      <td>113.160004</td>\n",
       "      <td>113.160004</td>\n",
       "      <td>161498200</td>\n",
       "    </tr>\n",
       "    <tr>\n",
       "      <th>2515</th>\n",
       "      <td>2020-10-07</td>\n",
       "      <td>114.620003</td>\n",
       "      <td>115.550003</td>\n",
       "      <td>114.129997</td>\n",
       "      <td>115.080002</td>\n",
       "      <td>115.080002</td>\n",
       "      <td>96849000</td>\n",
       "    </tr>\n",
       "    <tr>\n",
       "      <th>2516</th>\n",
       "      <td>2020-10-08</td>\n",
       "      <td>116.250000</td>\n",
       "      <td>116.400002</td>\n",
       "      <td>114.589996</td>\n",
       "      <td>114.970001</td>\n",
       "      <td>114.970001</td>\n",
       "      <td>83477200</td>\n",
       "    </tr>\n",
       "    <tr>\n",
       "      <th>2517</th>\n",
       "      <td>2020-10-09</td>\n",
       "      <td>115.279999</td>\n",
       "      <td>117.000000</td>\n",
       "      <td>114.919998</td>\n",
       "      <td>116.970001</td>\n",
       "      <td>116.970001</td>\n",
       "      <td>99893400</td>\n",
       "    </tr>\n",
       "  </tbody>\n",
       "</table>\n",
       "<p>2518 rows × 7 columns</p>\n",
       "</div>"
      ],
      "text/plain": [
       "           Date        Open        High         Low       Close   Adj Close  \\\n",
       "0    2010-10-11   10.526428   10.615714   10.521428   10.548572    9.115436   \n",
       "1    2010-10-12   10.550357   10.696428   10.446072   10.662143    9.213575   \n",
       "2    2010-10-13   10.721429   10.784286   10.707143   10.719286    9.262955   \n",
       "3    2010-10-14   10.774643   10.802500   10.728572   10.796785    9.329926   \n",
       "4    2010-10-15   10.980000   11.250000   10.889643   11.240714    9.713540   \n",
       "...         ...         ...         ...         ...         ...         ...   \n",
       "2513 2020-10-05  113.910004  116.650002  113.550003  116.500000  116.500000   \n",
       "2514 2020-10-06  115.699997  116.120003  112.250000  113.160004  113.160004   \n",
       "2515 2020-10-07  114.620003  115.550003  114.129997  115.080002  115.080002   \n",
       "2516 2020-10-08  116.250000  116.400002  114.589996  114.970001  114.970001   \n",
       "2517 2020-10-09  115.279999  117.000000  114.919998  116.970001  116.970001   \n",
       "\n",
       "         Volume  \n",
       "0     427753200  \n",
       "1     558544000  \n",
       "2     630092400  \n",
       "3     435296400  \n",
       "4     922194000  \n",
       "...         ...  \n",
       "2513  106243800  \n",
       "2514  161498200  \n",
       "2515   96849000  \n",
       "2516   83477200  \n",
       "2517   99893400  \n",
       "\n",
       "[2518 rows x 7 columns]"
      ]
     },
     "execution_count": 1,
     "metadata": {},
     "output_type": "execute_result"
    }
   ],
   "source": [
    "# Simply run the cell below and import the dataset\n",
    "\n",
    "import pandas as pd\n",
    "import matplotlib.pyplot as plt\n",
    "apple = pd.read_csv(\"aapl.csv\")\n",
    "apple['Date'] = pd.to_datetime(apple['Date'])\n",
    "apple"
   ]
  },
  {
   "cell_type": "markdown",
   "metadata": {},
   "source": [
    "Let Moving Average to be defined as below:\n",
    "\n",
    "$MA_n = \\frac{1}{n}\\sum_{i=1}^{n}X_i$,\n",
    "\n",
    "where n is the number of observations in the time frame to be averaged, and X is the observation in the dataset.\n",
    "\n",
    "Based on this equation, complete  the `movAvg` function below.\n",
    "\n",
    "For your reference, please read [this page](https://www.investopedia.com/terms/m/movingaverage.asp) for better understanding of moving average."
   ]
  },
  {
   "cell_type": "code",
   "execution_count": 2,
   "metadata": {},
   "outputs": [
    {
     "name": "stdout",
     "output_type": "stream",
     "text": [
      "True\n",
      "True\n"
     ]
    }
   ],
   "source": [
    "# movAvg takes 'l', which is pandas Series, and 'n', an integer, as two parameters.\n",
    "# Returns: A moving averaged list of 'l'\n",
    "# For index < n - 1, l[index] = average from l[0] to l[index]\n",
    "# Else, l[index] = average from l[index - n + 1] to l[index]\n",
    "# Note that for colon operator, end is non-inclusive! \n",
    "# TODO: Make the cell print 'True' for all test cases\n",
    "\n",
    "# Your code goes below here!\n",
    "def movAvg(l: pd.Series, n: int) -> list:\n",
    "    l = l.to_list()\n",
    "    ret = []\n",
    "    for i in range(len(l)):\n",
    "        if i < n - 1:\n",
    "            ret.append(sum(l[:i+1])/len(l[:i+1]))\n",
    "        else: ret.append(sum(l[i - n + 1 : i + 1])/len(l[i - n + 1 : i + 1]))\n",
    "    return ret\n",
    "\n",
    "\n",
    "\n",
    "\n",
    "# Do not modify below!\n",
    "ret = movAvg(apple['Close'], 7)\n",
    "print(ret[5] == sum(apple['Close'].iloc[:6])/6)\n",
    "print(ret[7] == apple['Close'].rolling(7).mean().iloc[7])"
   ]
  },
  {
   "cell_type": "code",
   "execution_count": 3,
   "metadata": {},
   "outputs": [
    {
     "name": "stdout",
     "output_type": "stream",
     "text": [
      "True\n"
     ]
    }
   ],
   "source": [
    "# Using the 'movAvg' written above, create a 30-days moving averaged data of apple['Close']\n",
    "# Based on the returned data, create a new column in apple titled 'CloseMovAvg'\n",
    "# TODO: Make the cell print 'True' for all test cases\n",
    "\n",
    "# Your code goes below here!\n",
    "apple['CloseMovAvg'] = movAvg(apple['Close'], 30)\n",
    "\n",
    "\n",
    "\n",
    "\n",
    "\n",
    "\n",
    "# Do not modify below!\n",
    "print(round(apple['CloseMovAvg'].iloc[100], 5) == round(apple['Close'].rolling(30).mean().iloc[100], 5))"
   ]
  },
  {
   "cell_type": "code",
   "execution_count": 4,
   "metadata": {},
   "outputs": [],
   "source": [
    "# If you have not installed 'ipympl' before, this cell will restart your kernel.\n",
    "# If so, please run all the cells above again\n",
    "\n",
    "try:\n",
    "    import ipympl\n",
    "except:\n",
    "    !pip install ipympl\n",
    "    try:\n",
    "        !pip3 install ipympl\n",
    "    except: pass\n",
    "    import os\n",
    "    os._exit(00)"
   ]
  },
  {
   "cell_type": "code",
   "execution_count": 5,
   "metadata": {},
   "outputs": [
    {
     "data": {
      "application/vnd.jupyter.widget-view+json": {
       "model_id": "f10a1131082b44509ace17b23bc26d08",
       "version_major": 2,
       "version_minor": 0
      },
      "text/plain": [
       "Canvas(toolbar=Toolbar(toolitems=[('Home', 'Reset original view', 'home', 'home'), ('Back', 'Back to previous …"
      ]
     },
     "metadata": {},
     "output_type": "display_data"
    },
    {
     "data": {
      "text/plain": [
       "<matplotlib.legend.Legend at 0x11ac72250>"
      ]
     },
     "execution_count": 5,
     "metadata": {},
     "output_type": "execute_result"
    }
   ],
   "source": [
    "# Set the figsize as (10, 5)\n",
    "# Create a plot with x = 'Date' and y = 'CloseMovAvg', and label it as 'MovAvg'\n",
    "# Create a plot with x = 'Date' and y = 'Close', and label it as 'Close'\n",
    "# Set x label, y label and title of the graph accordingly\n",
    "# Show legend\n",
    "# TODO: Create a grapth with two plots and axes, graph titles\n",
    "%matplotlib widget\n",
    "\n",
    "# Your code goes below here!\n",
    "\n",
    "\n",
    "\n",
    "plt.figure(figsize = (10, 5))\n",
    "plt.plot(apple['Date'], apple['CloseMovAvg'], label = 'MovAvg')\n",
    "plt.plot(apple['Date'], apple['Close'], label = 'Close')\n",
    "plt.title('Apple Stock Daily Price Range')\n",
    "plt.xlabel(\"Date\")\n",
    "plt.ylabel(\"Range\")\n",
    "plt.legend()"
   ]
  },
  {
   "cell_type": "code",
   "execution_count": 6,
   "metadata": {},
   "outputs": [
    {
     "name": "stdout",
     "output_type": "stream",
     "text": [
      "True\n",
      "True\n"
     ]
    }
   ],
   "source": [
    "# Create a function that takes two pandas Series, 'date' and 'data', as inputs\n",
    "# And returns a dictionary thats keys are months and values are average data for each months\n",
    "# for 'date' and 'data', same index refers to the data from the same date\n",
    "# i.e. if date.iloc[0] is 2000-01-01, data.iloc[0] is the data in 2000-01-01\n",
    "# TODO: Make the cell print 'True' for all test cases\n",
    "# Hint: to retrieve a month from pd.Timestamp object, use '.month'\n",
    "# i.e. apple['Date'].iloc[0].month returns 10\n",
    "\n",
    "# Your code goes below here!\n",
    "def monthAvgDict(date: pd.Series, data: pd.Series) -> dict:\n",
    "    date = date.to_list()\n",
    "    data = data.to_list()\n",
    "    date = [i.month for i in date]\n",
    "    ret = {}\n",
    "    for i in range(len(date)):\n",
    "        if date[i] not in ret:\n",
    "            ret.update({date[i]:[]})\n",
    "        ret[date[i]].append(data[i])\n",
    "    \n",
    "    ret = {i:sum(ret[i])/len(ret[i]) for i in ret}\n",
    "    return ret\n",
    "\n",
    "\n",
    "\n",
    "\n",
    "\n",
    "\n",
    "\n",
    "# Do not modify below!\n",
    "print(monthAvgDict(pd.Series([pd.Timestamp(2000, 1, 1) if i % 2 == 0 else pd.Timestamp(2000, 2, 1) for i in range(10)]), pd.Series([i for i in range(1,11)]))[1] == 5)\n",
    "print(len(monthAvgDict(apple['Date'], apple['Close'])) == 12)\n"
   ]
  },
  {
   "cell_type": "markdown",
   "metadata": {},
   "source": [
    "Now, based on the `monthAvgDict` we have created above, lets observe how the average stock price of Apple differ by month.\n",
    "\n",
    "Based on the data returned from `monthAvgDict`, we will create a bar chart.\n",
    "\n",
    "To read more about the bar chart in matplotlib, please refer to [this page](https://pythonbasics.org/matplotlib-bar-chart/)."
   ]
  },
  {
   "cell_type": "code",
   "execution_count": 7,
   "metadata": {},
   "outputs": [
    {
     "data": {
      "application/vnd.jupyter.widget-view+json": {
       "model_id": "474ab1dd97404c5ba8a747a3028e5585",
       "version_major": 2,
       "version_minor": 0
      },
      "text/plain": [
       "Canvas(toolbar=Toolbar(toolitems=[('Home', 'Reset original view', 'home', 'home'), ('Back', 'Back to previous …"
      ]
     },
     "metadata": {},
     "output_type": "display_data"
    },
    {
     "data": {
      "text/plain": [
       "Text(0.5, 1.0, 'Apple Average Close Price by Month')"
      ]
     },
     "execution_count": 7,
     "metadata": {},
     "output_type": "execute_result"
    }
   ],
   "source": [
    "# pass 'apple['Date']' and 'apple['Close'] to 'monthAvgDict' created above, \n",
    "# and create two lists, 'month' and 'avg_close' based on the returned dictionary\n",
    "# Using two lists, graph a bar plot of the average closing price of Apple by month.\n",
    "# Set the figsize as (10, 5)\n",
    "# Set x label, y label and title of the graph accordingly\n",
    "# TODO: Create a bar plot with axes, graph titles\n",
    "\n",
    "# Your code goes below here!\n",
    "ret = monthAvgDict(apple['Date'], apple['Close'])\n",
    "month, avg_close = list(ret.keys()), list(ret.values())\n",
    "plt.figure(figsize = (10, 5))\n",
    "plt.bar(month, avg_close)\n",
    "plt.xlabel(\"Month\")\n",
    "plt.ylabel(\"Average Close price ($)\")\n",
    "plt.title(\"Apple Average Close Price by Month\")"
   ]
  },
  {
   "cell_type": "code",
   "execution_count": null,
   "metadata": {},
   "outputs": [],
   "source": []
  }
 ],
 "metadata": {
  "kernelspec": {
   "display_name": "Python 3",
   "language": "python",
   "name": "python3"
  },
  "language_info": {
   "codemirror_mode": {
    "name": "ipython",
    "version": 3
   },
   "file_extension": ".py",
   "mimetype": "text/x-python",
   "name": "python",
   "nbconvert_exporter": "python",
   "pygments_lexer": "ipython3",
   "version": "3.8.6"
  }
 },
 "nbformat": 4,
 "nbformat_minor": 4
}
