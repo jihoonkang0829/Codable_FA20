{
 "cells": [
  {
   "cell_type": "markdown",
   "metadata": {},
   "source": [
    "## Function contd."
   ]
  },
  {
   "cell_type": "code",
   "execution_count": 17,
   "metadata": {},
   "outputs": [
    {
     "data": {
      "text/plain": [
       "True"
      ]
     },
     "execution_count": 17,
     "metadata": {},
     "output_type": "execute_result"
    }
   ],
   "source": [
    "# Exercise: write a function that returns the sum of all even numbers in the list\n",
    "def listEvenSum(a):  \n",
    "    evenSum = 0\n",
    "    for i in a:\n",
    "        if i % 2 == 0:\n",
    "            evenSum += i\n",
    "            \n",
    "    return evenSum\n",
    "\n",
    "#     return sum([i for i in a if i % 2 == 0])\n",
    "\n",
    "\n",
    "\n",
    "\n",
    "a = [2, 5, 6, 8]\n",
    "ret = listEvenSum(a)\n",
    "ret == 16"
   ]
  },
  {
   "cell_type": "code",
   "execution_count": 18,
   "metadata": {},
   "outputs": [
    {
     "data": {
      "text/plain": [
       "24"
      ]
     },
     "execution_count": 18,
     "metadata": {},
     "output_type": "execute_result"
    }
   ],
   "source": [
    "# Exercise: write a function that returns a factorial of the input integer\n",
    "# 4! = 4 * 3 * 2 * 1\n",
    "def factorial(a):\n",
    "    fact = 1\n",
    "    for i in range(1, a+1):\n",
    "        fact *= i\n",
    "    return fact\n",
    "\n",
    "factorial(4)"
   ]
  },
  {
   "cell_type": "code",
   "execution_count": 19,
   "metadata": {},
   "outputs": [
    {
     "data": {
      "text/plain": [
       "True"
      ]
     },
     "execution_count": 19,
     "metadata": {},
     "output_type": "execute_result"
    }
   ],
   "source": [
    "factorial(4) == 4 * factorial(3)"
   ]
  },
  {
   "cell_type": "markdown",
   "metadata": {},
   "source": [
    "## Recursion"
   ]
  },
  {
   "cell_type": "code",
   "execution_count": 20,
   "metadata": {},
   "outputs": [],
   "source": [
    "def factorial_recursive(a):\n",
    "    if a < 1: \n",
    "        print(\"Please enter a valid input\")\n",
    "        return\n",
    "    if a == 1: return 1\n",
    "    return a * factorial_recursive(a-1)"
   ]
  },
  {
   "cell_type": "code",
   "execution_count": 21,
   "metadata": {},
   "outputs": [],
   "source": [
    "## iPad explanation"
   ]
  },
  {
   "cell_type": "code",
   "execution_count": 22,
   "metadata": {},
   "outputs": [
    {
     "data": {
      "text/plain": [
       "5040"
      ]
     },
     "execution_count": 22,
     "metadata": {},
     "output_type": "execute_result"
    }
   ],
   "source": [
    "factorial_recursive(7)"
   ]
  },
  {
   "cell_type": "code",
   "execution_count": 23,
   "metadata": {},
   "outputs": [],
   "source": [
    "# print the ath fibonacci number (zero-based)\n",
    "def fibonacci(a):\n",
    "    if a < 0: print(\"Please enter a valid input\")\n",
    "    elif a == 0: return 0\n",
    "    elif a == 1: return 1\n",
    "    return fibonacci(a - 1) + fibonacci(a - 2)\n",
    "    "
   ]
  },
  {
   "cell_type": "code",
   "execution_count": 24,
   "metadata": {},
   "outputs": [],
   "source": [
    "## iPad explanation"
   ]
  },
  {
   "cell_type": "markdown",
   "metadata": {},
   "source": [
    "## Memoization"
   ]
  },
  {
   "cell_type": "code",
   "execution_count": 25,
   "metadata": {},
   "outputs": [],
   "source": [
    "def fib_main(a):\n",
    "    f = [0 for i in range(a+1)]\n",
    "    f[0] = 0\n",
    "    f[1] = 1\n",
    "    fib_memo(f, a)\n",
    "    return f\n",
    "    \n",
    "def fib_memo(l, a):\n",
    "    if a < 0: print(\"Please enter a valid input\")\n",
    "    elif a == 0: return 0\n",
    "    elif a == 1: return 1\n",
    "    if l[a] == 0:\n",
    "        l[a] = fib_memo(l, a - 1) + fib_memo(l, a - 2)\n",
    "    return l[a]\n",
    "\n",
    "\n"
   ]
  },
  {
   "cell_type": "code",
   "execution_count": 26,
   "metadata": {},
   "outputs": [
    {
     "name": "stdout",
     "output_type": "stream",
     "text": [
      "CPU times: user 415 ms, sys: 2.47 ms, total: 418 ms\n",
      "Wall time: 417 ms\n"
     ]
    },
    {
     "data": {
      "text/plain": [
       "832040"
      ]
     },
     "execution_count": 26,
     "metadata": {},
     "output_type": "execute_result"
    }
   ],
   "source": [
    "%time fibonacci(30)"
   ]
  },
  {
   "cell_type": "code",
   "execution_count": 27,
   "metadata": {},
   "outputs": [
    {
     "name": "stdout",
     "output_type": "stream",
     "text": [
      "CPU times: user 41 µs, sys: 0 ns, total: 41 µs\n",
      "Wall time: 44.1 µs\n"
     ]
    },
    {
     "data": {
      "text/plain": [
       "[0,\n",
       " 1,\n",
       " 1,\n",
       " 2,\n",
       " 3,\n",
       " 5,\n",
       " 8,\n",
       " 13,\n",
       " 21,\n",
       " 34,\n",
       " 55,\n",
       " 89,\n",
       " 144,\n",
       " 233,\n",
       " 377,\n",
       " 610,\n",
       " 987,\n",
       " 1597,\n",
       " 2584,\n",
       " 4181,\n",
       " 6765,\n",
       " 10946,\n",
       " 17711,\n",
       " 28657,\n",
       " 46368,\n",
       " 75025,\n",
       " 121393,\n",
       " 196418,\n",
       " 317811,\n",
       " 514229,\n",
       " 832040]"
      ]
     },
     "execution_count": 27,
     "metadata": {},
     "output_type": "execute_result"
    }
   ],
   "source": [
    "%time fib_main(30)"
   ]
  },
  {
   "cell_type": "code",
   "execution_count": 30,
   "metadata": {},
   "outputs": [
    {
     "name": "stdout",
     "output_type": "stream",
     "text": [
      "[0, 1, 2, 3, 4, 5, 6, 7, 8, 9]\n"
     ]
    },
    {
     "data": {
      "text/plain": [
       "9"
      ]
     },
     "execution_count": 30,
     "metadata": {},
     "output_type": "execute_result"
    }
   ],
   "source": [
    "# Recursive function to find the maximum of the list\n",
    "def find_max(l):\n",
    "    if len(l) == 0: return None\n",
    "    if len(l) == 1: return l[0]\n",
    "    \n",
    "    a = l[0]\n",
    "    b = find_max(l[1:])\n",
    "    \n",
    "    if a >= b : return a\n",
    "    else: return b\n",
    "    \n",
    "l = [i for i in range(10)]\n",
    "print(l)\n",
    "find_max(l)\n",
    "    \n",
    "    "
   ]
  },
  {
   "cell_type": "code",
   "execution_count": 31,
   "metadata": {},
   "outputs": [],
   "source": [
    "# Exercise: write a function that prints out a number of occurence of an element in a list\n",
    "def countOccurence(l:list, k:int) -> int:\n",
    "    if len(l) == 0: return 0\n",
    "    if l[0] == k: return 1 + countOccurence(l[1:], k)\n",
    "    else: return 0 + countOccurence(l[1:], k)\n",
    "\n"
   ]
  },
  {
   "cell_type": "code",
   "execution_count": 32,
   "metadata": {},
   "outputs": [
    {
     "name": "stdout",
     "output_type": "stream",
     "text": [
      "[9, 9, 13, 11, 8, 12, 9, 8, 9, 10, 10, 9, 11, 11, 11, 12, 10, 9, 10, 7]\n",
      "6\n"
     ]
    }
   ],
   "source": [
    "import numpy as np\n",
    "l = np.random.normal(10, 2, 20).astype(int).tolist()\n",
    "print(l)\n",
    "print(countOccurence(l, 9))"
   ]
  },
  {
   "cell_type": "markdown",
   "metadata": {},
   "source": [
    "## Dictionary"
   ]
  },
  {
   "cell_type": "code",
   "execution_count": 28,
   "metadata": {},
   "outputs": [
    {
     "name": "stdout",
     "output_type": "stream",
     "text": [
      "1\n"
     ]
    }
   ],
   "source": [
    "d = {}\n",
    "dd = dict()\n",
    "d = {'a':1, 'b': 3, 'd':5}\n",
    "print(d['a'])\n",
    "d.update({'c':6})\n",
    "\n",
    "\n",
    "# Dictionary characteristics\n",
    "# cannot have same key\n",
    "# iterate runtime = o(1)\n",
    "\n",
    "\n",
    "d = {}\n",
    "l = []\n",
    "for i in range(100000000):\n",
    "    d.update({i:i*100})\n",
    "    l.append(i)\n"
   ]
  },
  {
   "cell_type": "code",
   "execution_count": 29,
   "metadata": {},
   "outputs": [
    {
     "name": "stdout",
     "output_type": "stream",
     "text": [
      "CPU times: user 5 µs, sys: 6 µs, total: 11 µs\n",
      "Wall time: 11.9 µs\n",
      "CPU times: user 939 ms, sys: 2.13 s, total: 3.07 s\n",
      "Wall time: 4.09 s\n"
     ]
    },
    {
     "data": {
      "text/plain": [
       "34818429"
      ]
     },
     "execution_count": 29,
     "metadata": {},
     "output_type": "execute_result"
    }
   ],
   "source": [
    "%time d[34818429]\n",
    "%time l.index(34818429)"
   ]
  },
  {
   "cell_type": "code",
   "execution_count": null,
   "metadata": {},
   "outputs": [],
   "source": []
  }
 ],
 "metadata": {
  "kernelspec": {
   "display_name": "Python 3",
   "language": "python",
   "name": "python3"
  },
  "language_info": {
   "codemirror_mode": {
    "name": "ipython",
    "version": 3
   },
   "file_extension": ".py",
   "mimetype": "text/x-python",
   "name": "python",
   "nbconvert_exporter": "python",
   "pygments_lexer": "ipython3",
   "version": "3.8.6"
  }
 },
 "nbformat": 4,
 "nbformat_minor": 4
}
