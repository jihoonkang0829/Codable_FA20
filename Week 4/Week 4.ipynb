{
 "cells": [
  {
   "cell_type": "markdown",
   "metadata": {},
   "source": [
    "## Function contd."
   ]
  },
  {
   "cell_type": "code",
   "execution_count": 2,
   "metadata": {},
   "outputs": [
    {
     "data": {
      "text/plain": [
       "30"
      ]
     },
     "execution_count": 2,
     "metadata": {},
     "output_type": "execute_result"
    }
   ],
   "source": [
    "# Exercise: write a function that returns the sum of all even numbers in the list\n",
    "l = [1, 2, 3, 4, 5, 6, 7, 8, 9, 10]\n",
    "def listEvenSum(a):\n",
    "    return sum([i for i in a if i % 2 == 0])\n",
    "    \n",
    "listEvenSum(l)"
   ]
  },
  {
   "cell_type": "code",
   "execution_count": 10,
   "metadata": {},
   "outputs": [],
   "source": [
    "# Exercise: write a function that returns a factorial of the input integer\n",
    "# 4! = 4 * 3 * 2 * 1\n",
    "def factorial(a: int) -> int:\n",
    "    if a < 1:\n",
    "        print(\"Please enter a valid input\")\n",
    "        return a\n",
    "    fact = 1\n",
    "    for i in range(1, a+1):\n",
    "        fact *= i\n",
    "    return fact"
   ]
  },
  {
   "cell_type": "code",
   "execution_count": 12,
   "metadata": {},
   "outputs": [
    {
     "data": {
      "text/plain": [
       "True"
      ]
     },
     "execution_count": 12,
     "metadata": {},
     "output_type": "execute_result"
    }
   ],
   "source": [
    "factorial(4) == 4 * factorial(3)"
   ]
  },
  {
   "cell_type": "markdown",
   "metadata": {},
   "source": [
    "## Recursion"
   ]
  },
  {
   "cell_type": "code",
   "execution_count": 59,
   "metadata": {},
   "outputs": [],
   "source": [
    "def factorial_recursive(a):\n",
    "    print(a)\n",
    "    if a < 1:\n",
    "        print(\"Please enter a valid input\")\n",
    "        return a\n",
    "    if a == 1: return 1\n",
    "    \n",
    "    return a * factorial_recursive(a - 1)"
   ]
  },
  {
   "cell_type": "code",
   "execution_count": 62,
   "metadata": {},
   "outputs": [
    {
     "name": "stdout",
     "output_type": "stream",
     "text": [
      "4\n",
      "3\n",
      "2\n",
      "1\n",
      "\n",
      "3\n",
      "2\n",
      "1\n"
     ]
    },
    {
     "data": {
      "text/plain": [
       "6"
      ]
     },
     "execution_count": 62,
     "metadata": {},
     "output_type": "execute_result"
    }
   ],
   "source": [
    "factorial_recursive(4)\n",
    "print()\n",
    "factorial_recursive(3)"
   ]
  },
  {
   "cell_type": "code",
   "execution_count": 25,
   "metadata": {},
   "outputs": [],
   "source": [
    "# print the ath fibonacci number (zero - based)\n",
    "def fibonacci(a):\n",
    "    # exception handling\n",
    "    if a < 0: \n",
    "        print(\"please enter a valid input\")\n",
    "        return a\n",
    "    \n",
    "    if a == 0: return 0\n",
    "    if a == 1: return 1\n",
    "    return fibonacci(a - 1) + fibonacci(a - 2)"
   ]
  },
  {
   "cell_type": "code",
   "execution_count": 48,
   "metadata": {},
   "outputs": [
    {
     "data": {
      "text/plain": [
       "21"
      ]
     },
     "execution_count": 48,
     "metadata": {},
     "output_type": "execute_result"
    }
   ],
   "source": [
    "fibonacci(8)"
   ]
  },
  {
   "cell_type": "markdown",
   "metadata": {},
   "source": [
    "## Memoization"
   ]
  },
  {
   "cell_type": "code",
   "execution_count": 54,
   "metadata": {},
   "outputs": [],
   "source": [
    "def fib_base(a):\n",
    "    f = [0 for i in range(a+1)]\n",
    "    f[0] = 0\n",
    "    f[1] = 1\n",
    "    fib_memo_1(f, a)\n",
    "    return f[-1]\n",
    "\n",
    "def fib_memo_1(f, a):\n",
    "    if a < 0: \n",
    "        print(\"please enter a valid input\")\n",
    "        return a\n",
    "    \n",
    "    if a == 0: return 0\n",
    "    if a == 1: return 1\n",
    "    \n",
    "    if f[a] == 0:\n",
    "        f[a] = fib_memo_1(f, a - 1) + fib_memo_1(f, a - 2)\n",
    "    return f[a]"
   ]
  },
  {
   "cell_type": "code",
   "execution_count": 55,
   "metadata": {},
   "outputs": [
    {
     "name": "stdout",
     "output_type": "stream",
     "text": [
      "CPU times: user 1.76 s, sys: 9.7 ms, total: 1.77 s\n",
      "Wall time: 1.78 s\n",
      "CPU times: user 25 µs, sys: 0 ns, total: 25 µs\n",
      "Wall time: 28.1 µs\n"
     ]
    },
    {
     "data": {
      "text/plain": [
       "3524578"
      ]
     },
     "execution_count": 55,
     "metadata": {},
     "output_type": "execute_result"
    }
   ],
   "source": [
    "%time fibonacci(33)\n",
    "%time fib_base(33)"
   ]
  },
  {
   "cell_type": "code",
   "execution_count": null,
   "metadata": {},
   "outputs": [],
   "source": []
  }
 ],
 "metadata": {
  "kernelspec": {
   "display_name": "Python 3",
   "language": "python",
   "name": "python3"
  },
  "language_info": {
   "codemirror_mode": {
    "name": "ipython",
    "version": 3
   },
   "file_extension": ".py",
   "mimetype": "text/x-python",
   "name": "python",
   "nbconvert_exporter": "python",
   "pygments_lexer": "ipython3",
   "version": "3.8.6"
  }
 },
 "nbformat": 4,
 "nbformat_minor": 4
}
