{
 "cells": [
  {
   "cell_type": "markdown",
   "metadata": {},
   "source": [
    "## Simple function"
   ]
  },
  {
   "cell_type": "code",
   "execution_count": 1,
   "metadata": {},
   "outputs": [
    {
     "name": "stdout",
     "output_type": "stream",
     "text": [
      "True\n",
      "True\n"
     ]
    }
   ],
   "source": [
    "# Write a function 'findMaxIter' that takes a list and returns the largest element in the list, iteratively\n",
    "# i.e. using for loop, while loop or list comprehension\n",
    "# For error handling: if the size of list is smaller than 1, return -1\n",
    "# TODO: Make the cell print 'True' for all cases\n",
    "\n",
    "# Your code goes below here\n",
    "def findMaxIter(l: list) -> int:\n",
    "    if len(l) < 1: return -1\n",
    "    temp = l[0]\n",
    "    for i in l:\n",
    "        if i > temp:\n",
    "            temp = i\n",
    "    return temp\n",
    "            \n",
    "    \n",
    "# Do not modify below!\n",
    "print(findMaxIter([]) == -1)\n",
    "import random\n",
    "l = [random.randint(0, 50) for i in range(100)]\n",
    "print(findMaxIter(l) == max(l))"
   ]
  },
  {
   "cell_type": "code",
   "execution_count": 2,
   "metadata": {},
   "outputs": [
    {
     "name": "stdout",
     "output_type": "stream",
     "text": [
      "True\n",
      "True\n"
     ]
    }
   ],
   "source": [
    "# Write the function 'getLarger' that returns the larger of the input int a and b\n",
    "# If a and b are equal, return a\n",
    "# You do not have to think about error handling here\n",
    "# TODO: Make the cell print 'True' for all cases\n",
    "\n",
    "# Your code goes below here\n",
    "def getLarger(a: int, b: int) -> int:\n",
    "    return a if a >= b else b\n",
    "\n",
    "# Do not modify below:\n",
    "print(getLarger(-3, 5) == 5)\n",
    "print(getLarger(5, 5) == 5)"
   ]
  },
  {
   "cell_type": "markdown",
   "metadata": {},
   "source": [
    "## Recursion practice"
   ]
  },
  {
   "cell_type": "markdown",
   "metadata": {},
   "source": [
    "Now, using the 'getLarger' we have written above, let's write 'findMax' recursively.\n",
    "\n",
    "To give some hints, the simple (or *base*) case would be when the length of list is 1, in which the largest element is the only element.\n",
    "\n",
    "Otherwise, the function would return the **larger** of the first element of the list(i.e. `l[0]`) or the **maximum of the rest of the list(`l[1:]`)**.\n",
    "\n",
    "And how do we find the **larger** between two elements? We have just written the function that does so!"
   ]
  },
  {
   "cell_type": "code",
   "execution_count": 3,
   "metadata": {},
   "outputs": [
    {
     "name": "stdout",
     "output_type": "stream",
     "text": [
      "True\n",
      "True\n"
     ]
    }
   ],
   "source": [
    "# Write a function 'findMaxRecursive' that takes a list and returns the largest element in the list, recursively\n",
    "# For error handling: if the size of list is smaller than 1, return -1\n",
    "# TODO: Make the cell print 'True' for all cases\n",
    "\n",
    "# Your code goes below here\n",
    "def findMaxRecursive(l: list) -> int:\n",
    "    if len(l) < 1: return -1\n",
    "    if len(l) == 1: return l[0]\n",
    "    return getLarger(l[0], findMaxRecursive(l[1:]))\n",
    "\n",
    "# Do not modify below!\n",
    "print(findMaxRecursive([]) == -1)\n",
    "import random\n",
    "l = [random.randint(0, 50) for i in range(100)]\n",
    "print(findMaxRecursive(l) == max(l))"
   ]
  },
  {
   "cell_type": "code",
   "execution_count": 4,
   "metadata": {},
   "outputs": [
    {
     "name": "stdout",
     "output_type": "stream",
     "text": [
      "Runtime for iterative findMax\n",
      "CPU times: user 23 µs, sys: 0 ns, total: 23 µs\n",
      "Wall time: 26 µs\n",
      "\n",
      "Runtime for recursive findMax\n",
      "CPU times: user 2.05 ms, sys: 429 µs, total: 2.47 ms\n",
      "Wall time: 2.51 ms\n"
     ]
    },
    {
     "data": {
      "text/plain": [
       "50"
      ]
     },
     "execution_count": 4,
     "metadata": {},
     "output_type": "execute_result"
    }
   ],
   "source": [
    "# Simply run this cell, and observe the runtime of the two functions\n",
    "\n",
    "import sys\n",
    "if sys.getrecursionlimit() < 3000: sys.setrecursionlimit(4000)\n",
    "\n",
    "l = [random.randint(0, 50) for i in range(500)]\n",
    "print(\"Runtime for iterative findMax\")\n",
    "%time findMaxIter(l)\n",
    "print(\"\\nRuntime for recursive findMax\")\n",
    "%time findMaxRecursive(l)"
   ]
  },
  {
   "cell_type": "markdown",
   "metadata": {},
   "source": [
    "## So, why do we use it?"
   ]
  },
  {
   "cell_type": "markdown",
   "metadata": {},
   "source": [
    "As you can see from the output of the above cell, recursion is generally slower than iteration. In fact, look at the plot shown below."
   ]
  },
  {
   "cell_type": "code",
   "execution_count": 39,
   "metadata": {},
   "outputs": [
    {
     "name": "stdout",
     "output_type": "stream",
     "text": [
      "4.75 µs ± 164 ns per loop (mean ± std. dev. of 10 runs, 5 loops each)\n",
      "75.4 µs ± 7.42 µs per loop (mean ± std. dev. of 10 runs, 5 loops each)\n",
      "8.61 µs ± 299 ns per loop (mean ± std. dev. of 10 runs, 5 loops each)\n",
      "169 µs ± 19.5 µs per loop (mean ± std. dev. of 10 runs, 5 loops each)\n",
      "11.8 µs ± 177 ns per loop (mean ± std. dev. of 10 runs, 5 loops each)\n",
      "287 µs ± 20.1 µs per loop (mean ± std. dev. of 10 runs, 5 loops each)\n",
      "13.6 µs ± 190 ns per loop (mean ± std. dev. of 10 runs, 5 loops each)\n",
      "491 µs ± 101 µs per loop (mean ± std. dev. of 10 runs, 5 loops each)\n",
      "16.9 µs ± 193 ns per loop (mean ± std. dev. of 10 runs, 5 loops each)\n",
      "495 µs ± 50 µs per loop (mean ± std. dev. of 10 runs, 5 loops each)\n",
      "18.8 µs ± 536 ns per loop (mean ± std. dev. of 10 runs, 5 loops each)\n",
      "695 µs ± 60.7 µs per loop (mean ± std. dev. of 10 runs, 5 loops each)\n",
      "21.4 µs ± 337 ns per loop (mean ± std. dev. of 10 runs, 5 loops each)\n",
      "909 µs ± 128 µs per loop (mean ± std. dev. of 10 runs, 5 loops each)\n",
      "26.5 µs ± 1.57 µs per loop (mean ± std. dev. of 10 runs, 5 loops each)\n",
      "1.18 ms ± 177 µs per loop (mean ± std. dev. of 10 runs, 5 loops each)\n",
      "27.4 µs ± 422 ns per loop (mean ± std. dev. of 10 runs, 5 loops each)\n",
      "1.37 ms ± 122 µs per loop (mean ± std. dev. of 10 runs, 5 loops each)\n",
      "30.3 µs ± 520 ns per loop (mean ± std. dev. of 10 runs, 5 loops each)\n",
      "1.64 ms ± 305 µs per loop (mean ± std. dev. of 10 runs, 5 loops each)\n",
      "33.1 µs ± 280 ns per loop (mean ± std. dev. of 10 runs, 5 loops each)\n",
      "1.82 ms ± 224 µs per loop (mean ± std. dev. of 10 runs, 5 loops each)\n",
      "36.7 µs ± 3.34 µs per loop (mean ± std. dev. of 10 runs, 5 loops each)\n",
      "2.35 ms ± 209 µs per loop (mean ± std. dev. of 10 runs, 5 loops each)\n",
      "39 µs ± 531 ns per loop (mean ± std. dev. of 10 runs, 5 loops each)\n",
      "2.59 ms ± 198 µs per loop (mean ± std. dev. of 10 runs, 5 loops each)\n",
      "39.8 µs ± 455 ns per loop (mean ± std. dev. of 10 runs, 5 loops each)\n",
      "3.36 ms ± 476 µs per loop (mean ± std. dev. of 10 runs, 5 loops each)\n",
      "52.9 µs ± 1.38 µs per loop (mean ± std. dev. of 10 runs, 5 loops each)\n",
      "3.84 ms ± 870 µs per loop (mean ± std. dev. of 10 runs, 5 loops each)\n",
      "71 µs ± 18.8 µs per loop (mean ± std. dev. of 10 runs, 5 loops each)\n",
      "6.12 ms ± 556 µs per loop (mean ± std. dev. of 10 runs, 5 loops each)\n",
      "55.6 µs ± 945 ns per loop (mean ± std. dev. of 10 runs, 5 loops each)\n",
      "5.41 ms ± 229 µs per loop (mean ± std. dev. of 10 runs, 5 loops each)\n",
      "66.8 µs ± 12.4 µs per loop (mean ± std. dev. of 10 runs, 5 loops each)\n",
      "6.11 ms ± 511 µs per loop (mean ± std. dev. of 10 runs, 5 loops each)\n",
      "66 µs ± 10.1 µs per loop (mean ± std. dev. of 10 runs, 5 loops each)\n",
      "6.85 ms ± 763 µs per loop (mean ± std. dev. of 10 runs, 5 loops each)\n",
      "63.2 µs ± 10.2 µs per loop (mean ± std. dev. of 10 runs, 5 loops each)\n",
      "9.38 ms ± 1.2 ms per loop (mean ± std. dev. of 10 runs, 5 loops each)\n",
      "85.3 µs ± 14.6 µs per loop (mean ± std. dev. of 10 runs, 5 loops each)\n",
      "9.93 ms ± 1.46 ms per loop (mean ± std. dev. of 10 runs, 5 loops each)\n",
      "65 µs ± 396 ns per loop (mean ± std. dev. of 10 runs, 5 loops each)\n",
      "10.3 ms ± 1.5 ms per loop (mean ± std. dev. of 10 runs, 5 loops each)\n",
      "98 µs ± 18.4 µs per loop (mean ± std. dev. of 10 runs, 5 loops each)\n",
      "10.3 ms ± 1.73 ms per loop (mean ± std. dev. of 10 runs, 5 loops each)\n",
      "75.2 µs ± 12.9 µs per loop (mean ± std. dev. of 10 runs, 5 loops each)\n",
      "10.9 ms ± 737 µs per loop (mean ± std. dev. of 10 runs, 5 loops each)\n",
      "77.7 µs ± 10.2 µs per loop (mean ± std. dev. of 10 runs, 5 loops each)\n",
      "14.8 ms ± 1.99 ms per loop (mean ± std. dev. of 10 runs, 5 loops each)\n",
      "106 µs ± 10.9 µs per loop (mean ± std. dev. of 10 runs, 5 loops each)\n",
      "12.5 ms ± 1.47 ms per loop (mean ± std. dev. of 10 runs, 5 loops each)\n",
      "83.3 µs ± 11.4 µs per loop (mean ± std. dev. of 10 runs, 5 loops each)\n",
      "13.4 ms ± 1.14 ms per loop (mean ± std. dev. of 10 runs, 5 loops each)\n",
      "86.6 µs ± 12.9 µs per loop (mean ± std. dev. of 10 runs, 5 loops each)\n",
      "14.1 ms ± 1.21 ms per loop (mean ± std. dev. of 10 runs, 5 loops each)\n",
      "89.3 µs ± 9.89 µs per loop (mean ± std. dev. of 10 runs, 5 loops each)\n",
      "15.5 ms ± 921 µs per loop (mean ± std. dev. of 10 runs, 5 loops each)\n"
     ]
    },
    {
     "data": {
      "text/plain": [
       "<matplotlib.legend.Legend at 0x123793d60>"
      ]
     },
     "execution_count": 39,
     "metadata": {},
     "output_type": "execute_result"
    },
    {
     "data": {
      "image/png": "[encoded data removed]",
      "text/plain": [
       "<Figure size 1080x720 with 1 Axes>"
      ]
     },
     "metadata": {
      "needs_background": "light"
     },
     "output_type": "display_data"
    }
   ],
   "source": [
    "# Simply run this cell and observe the output plot.\n",
    "# If this cell returns an error, please contact me!\n",
    "\n",
    "iter_list = []\n",
    "rec_list = []\n",
    "size = []\n",
    "for i in range(100, 3000, 100):\n",
    "    size.append(i)\n",
    "    l = [random.randint(0, i) for i in range(i)]\n",
    "    temp = %timeit -n5 -r10 -o findMaxIter(l)\n",
    "    iter_list.append(temp.average)\n",
    "    temp = %timeit -n5 -r10 -o findMaxRecursive(l)\n",
    "    rec_list.append(temp.average)\n",
    "\n",
    "try:\n",
    "    import matplotlib.pyplot as plt\n",
    "except:\n",
    "    try:\n",
    "        ! pip install --user matplotlib\n",
    "    except: \n",
    "        ! pip3 install --user matplotlib\n",
    "        \n",
    "plt.figure(figsize = (15,10))\n",
    "plt.plot(size, iter_list, label = \"Iterative findMax\")\n",
    "plt.plot(size, rec_list, label = \"Recursive findMax\")\n",
    "plt.xlabel(\"Size of the list\", fontsize = 15)\n",
    "plt.ylabel(\"Runtime(sec)\", fontsize = 15)\n",
    "plt.title(\"Runtime comparison of Iteration and Recursion\", fontsize = 18)\n",
    "plt.legend(fontsize = 15)"
   ]
  },
  {
   "cell_type": "markdown",
   "metadata": {},
   "source": [
    "You can see that the runtime of a recursive function grows exponentially, with the increase in size of the list. If so, why do we still use recursion?\n",
    "\n",
    "The biggest reason is because it makes the code simpler, as discussed in last meeting. Let's look at the image below.\n",
    "\n",
    "![Ackermann](Ackermann.png)\n",
    "\n",
    "The picture above represents the [Ackermann function](https://en.wikipedia.org/wiki/Ackermann_function).\n",
    "\n",
    "Let's try to write this using recursion."
   ]
  },
  {
   "cell_type": "code",
   "execution_count": 33,
   "metadata": {},
   "outputs": [
    {
     "name": "stdout",
     "output_type": "stream",
     "text": [
      "True\n",
      "True\n"
     ]
    }
   ],
   "source": [
    "# Write the 'Ackermann_recursive', based on the fuction description seen above.\n",
    "# The function takes two input integers, m and n, and returns an int\n",
    "# TODO: Make the cell print 'True' for all cases\n",
    "\n",
    "# Your code goes below here\n",
    "def Ackermann_recursive(m: int, n: int) -> int:\n",
    "    if m == 0: return n + 1\n",
    "    if m > 0 and n == 0: return Ackermann_recursive(m - 1, 1)\n",
    "    return Ackermann_recursive(m - 1, Ackermann_recursive(m, n - 1))\n",
    "\n",
    "# Do not modify below:\n",
    "print(Ackermann_recursive(1, 2) == 4)\n",
    "print(Ackermann_recursive(3, 2) == 29)"
   ]
  },
  {
   "cell_type": "markdown",
   "metadata": {},
   "source": [
    "You can see that the Ackermann fuction can be written with recursion with just a few lines of code.\n",
    "However, let's try writing this iteratively. \n",
    "\n",
    "As writing this iteratively is bit challenging, I have provided the code for you."
   ]
  },
  {
   "cell_type": "code",
   "execution_count": 38,
   "metadata": {},
   "outputs": [
    {
     "name": "stdout",
     "output_type": "stream",
     "text": [
      "True\n",
      "True\n"
     ]
    }
   ],
   "source": [
    "# Simply run this cell\n",
    "\n",
    "def Ackermann_iterative(m: int, n: int) -> int:\n",
    "    mList = []\n",
    "    while(True):\n",
    "        if m == 0: \n",
    "            n += 1\n",
    "            if len(mList) == 0:\n",
    "                return n\n",
    "            else:\n",
    "                index = len(mList) - 1\n",
    "                m = mList[index]\n",
    "                del mList[index]\n",
    "        elif n == 0:\n",
    "            m -= 1\n",
    "            n = 1\n",
    "        else:\n",
    "            mList.append(m - 1)\n",
    "            n -= 1\n",
    "\n",
    "print(Ackermann_iterative(1, 2) == 4)\n",
    "print(Ackermann_iterative(3, 2) == 29)"
   ]
  },
  {
   "cell_type": "markdown",
   "metadata": {},
   "source": [
    "You can see that both `Ackermann_recursive` and `Ackermann_iterative` behaves the same. In fact, the [Church-Turing thesis](https://en.wikipedia.org/wiki/Church–Turing_thesis) proves that all iterative functions can be written recursively, and vice versa.\n",
    "\n",
    "However, `Ackermann_iterative` is very hard to understand in a glance, and also it is longer than `Ackermann_recursive`.\n",
    "\n",
    "Thus, we can see that recursion and iteration both possess pros and cons. Therefore, flexibly switching between recursion and iteration would be an important skill for a good programmer to possess."
   ]
  }
 ],
 "metadata": {
  "kernelspec": {
   "display_name": "Python 3",
   "language": "python",
   "name": "python3"
  },
  "language_info": {
   "codemirror_mode": {
    "name": "ipython",
    "version": 3
   },
   "file_extension": ".py",
   "mimetype": "text/x-python",
   "name": "python",
   "nbconvert_exporter": "python",
   "pygments_lexer": "ipython3",
   "version": "3.8.6"
  }
 },
 "nbformat": 4,
 "nbformat_minor": 4
}
