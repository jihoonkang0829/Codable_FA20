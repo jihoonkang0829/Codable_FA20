{
 "cells": [
  {
   "cell_type": "markdown",
   "metadata": {},
   "source": [
    "## Simple function"
   ]
  },
  {
   "cell_type": "code",
   "execution_count": null,
   "metadata": {},
   "outputs": [],
   "source": [
    "# Write a function 'findMaxIter' that takes a list and returns the largest element in the list, iteratively\n",
    "# i.e. using for loop, while loop or list comprehension\n",
    "# For error handling: if the size of list is smaller than 1, return -1\n",
    "# TODO: Make the cell print 'True' for all cases\n",
    "\n",
    "# Your code goes below here\n",
    "def findMaxIter(l: list) -> int:\n",
    "            \n",
    "    \n",
    "    \n",
    "    \n",
    "    \n",
    "    \n",
    "    \n",
    "    \n",
    "    \n",
    "# Do not modify below!\n",
    "print(findMaxIter([]) == -1)\n",
    "import random\n",
    "l = [random.randint(-20, -10) for i in range(100)]\n",
    "print(findMaxIter(l) == max(l))"
   ]
  },
  {
   "cell_type": "code",
   "execution_count": null,
   "metadata": {},
   "outputs": [],
   "source": [
    "# Write the function 'getLarger' that returns the larger of the input int a and b\n",
    "# If a and b are equal, return a\n",
    "# You do not have to think about error handling here\n",
    "# TODO: Make the cell print 'True' for all cases\n",
    "\n",
    "# Your code goes below here\n",
    "def getLarger(a: int, b: int) -> int:\n",
    "    \n",
    "    \n",
    "    \n",
    "    \n",
    "    \n",
    "    \n",
    "    \n",
    "\n",
    "# Do not modify below:\n",
    "print(getLarger(-3, 5) == 5)\n",
    "print(getLarger(5, 5) == 5)"
   ]
  },
  {
   "cell_type": "markdown",
   "metadata": {},
   "source": [
    "## Recursion practice"
   ]
  },
  {
   "cell_type": "markdown",
   "metadata": {},
   "source": [
    "Now, using the 'getLarger' we have written above, let's write 'findMax' recursively.\n",
    "\n",
    "To give some hints, the simple (or *base*) case would be when the length of list is 1, in which the largest element is the only element.\n",
    "\n",
    "Otherwise, the function would return the **larger** of the first element of the list(i.e. `l[0]`) or the **maximum of the rest of the list(`l[1:]`)**.\n",
    "\n",
    "And how do we find the **larger** between two elements? We have just written the function that does so!"
   ]
  },
  {
   "cell_type": "code",
   "execution_count": null,
   "metadata": {},
   "outputs": [],
   "source": [
    "# Write a function 'findMaxRecursive' that takes a list and returns the largest element in the list, recursively\n",
    "# For error handling: if the size of list is smaller than 1, return -1\n",
    "# TODO: Make the cell print 'True' for all cases\n",
    "\n",
    "# Your code goes below here\n",
    "def findMaxRecursive(l: list) -> int:\n",
    "    \n",
    "    \n",
    "    \n",
    "    \n",
    "    \n",
    "    \n",
    "    \n",
    "    \n",
    "\n",
    "# Do not modify below!\n",
    "print(findMaxRecursive([]) == -1)\n",
    "import random\n",
    "l = [random.randint(0, 50) for i in range(100)]\n",
    "print(findMaxRecursive(l) == max(l))"
   ]
  },
  {
   "cell_type": "code",
   "execution_count": null,
   "metadata": {},
   "outputs": [],
   "source": [
    "# Simply run this cell, and observe the runtime of the two functions\n",
    "\n",
    "import sys\n",
    "if sys.getrecursionlimit() < 3000: sys.setrecursionlimit(4000)\n",
    "\n",
    "l = [random.randint(0, 50) for i in range(500)]\n",
    "print(\"Runtime for iterative findMax\")\n",
    "%time findMaxIter(l)\n",
    "print(\"\\nRuntime for recursive findMax\")\n",
    "%time findMaxRecursive(l)"
   ]
  },
  {
   "cell_type": "markdown",
   "metadata": {},
   "source": [
    "## So, why do we use it?"
   ]
  },
  {
   "cell_type": "markdown",
   "metadata": {},
   "source": [
    "As you can see from the output of the above cell, recursion is generally slower than iteration. In fact, look at the plot shown below."
   ]
  },
  {
   "cell_type": "code",
   "execution_count": null,
   "metadata": {},
   "outputs": [],
   "source": [
    "# Simply run this cell and observe the output plot.\n",
    "# If this cell returns an error, please contact me!\n",
    "import random\n",
    "\n",
    "iter_list = []\n",
    "rec_list = []\n",
    "size = []\n",
    "for i in range(100, 3000, 100):\n",
    "    size.append(i)\n",
    "    l = [random.randint(0, i) for i in range(i)]\n",
    "    temp = %timeit -n5 -r10 -o findMaxIter(l)\n",
    "    iter_list.append(temp.average)\n",
    "    temp = %timeit -n5 -r10 -o findMaxRecursive(l)\n",
    "    rec_list.append(temp.average)\n",
    "\n",
    "try:\n",
    "    import matplotlib.pyplot as plt\n",
    "except:\n",
    "    try:\n",
    "        ! pip install --user matplotlib\n",
    "        ! pip3 install --user matplotlib\n",
    "    except: \n",
    "        pass\n",
    "        \n",
    "import matplotlib.pyplot as plt\n",
    "plt.figure(figsize = (15,10))\n",
    "plt.plot(size, iter_list, label = \"Iterative findMax\")\n",
    "plt.plot(size, rec_list, label = \"Recursive findMax\")\n",
    "plt.xlabel(\"Size of the list\", fontsize = 15)\n",
    "plt.ylabel(\"Runtime(sec)\", fontsize = 15)\n",
    "plt.title(\"Runtime comparison of Iteration and Recursion\", fontsize = 18)\n",
    "plt.legend(fontsize = 15)"
   ]
  },
  {
   "cell_type": "markdown",
   "metadata": {},
   "source": [
    "You can see that the runtime of a recursive function grows exponentially, with the increase in size of the list. If so, why do we still use recursion?\n",
    "\n",
    "The biggest reason is because it makes the code simpler, as discussed in last meeting. Let's look at the image below.\n",
    "\n",
    "![Ackermann](Ackermann.png)\n",
    "\n",
    "The picture above represents the [Ackermann function](https://en.wikipedia.org/wiki/Ackermann_function).\n",
    "\n",
    "Let's try to write this using recursion."
   ]
  },
  {
   "cell_type": "code",
   "execution_count": null,
   "metadata": {},
   "outputs": [],
   "source": [
    "# Write the 'Ackermann_recursive', based on the fuction description seen above.\n",
    "# The function takes two input integers, m and n, and returns an int\n",
    "# TODO: Make the cell print 'True' for all cases\n",
    "\n",
    "# Your code goes below here\n",
    "def Ackermann_recursive(m: int, n: int) -> int:\n",
    "    \n",
    "    \n",
    "    \n",
    "    \n",
    "    \n",
    "    \n",
    "    \n",
    "    \n",
    "\n",
    "# Do not modify below:\n",
    "print(Ackermann_recursive(1, 2) == 4)\n",
    "print(Ackermann_recursive(3, 2) == 29)"
   ]
  },
  {
   "cell_type": "markdown",
   "metadata": {},
   "source": [
    "You can see that the Ackermann fuction can be written with recursion with just a few lines of code.\n",
    "However, let's try writing this iteratively. \n",
    "\n",
    "As writing this iteratively is bit challenging, I have provided the code for you."
   ]
  },
  {
   "cell_type": "code",
   "execution_count": null,
   "metadata": {},
   "outputs": [],
   "source": [
    "# Simply run this cell\n",
    "\n",
    "def Ackermann_iterative(m: int, n: int) -> int:\n",
    "\n",
    "\n",
    "print(Ackermann_iterative(1, 2) == 4)\n",
    "print(Ackermann_iterative(3, 2) == 29)"
   ]
  },
  {
   "cell_type": "markdown",
   "metadata": {},
   "source": [
    "You can see that both `Ackermann_recursive` and `Ackermann_iterative` behaves the same. In fact, the [Church-Turing thesis](https://en.wikipedia.org/wiki/Church–Turing_thesis) proves that all iterative functions can be written recursively, and vice versa.\n",
    "\n",
    "However, `Ackermann_iterative` is very hard to understand in a glance, and also it is longer than `Ackermann_recursive`.\n",
    "\n",
    "Thus, we can see that recursion and iteration both possess pros and cons. Therefore, flexibly switching between recursion and iteration would be an important skill for a good programmer to possess."
   ]
  }
 ],
 "metadata": {
  "kernelspec": {
   "display_name": "Python 3",
   "language": "python",
   "name": "python3"
  },
  "language_info": {
   "codemirror_mode": {
    "name": "ipython",
    "version": 3
   },
   "file_extension": ".py",
   "mimetype": "text/x-python",
   "name": "python",
   "nbconvert_exporter": "python",
   "pygments_lexer": "ipython3",
   "version": "3.9.0"
  }
 },
 "nbformat": 4,
 "nbformat_minor": 4
}
